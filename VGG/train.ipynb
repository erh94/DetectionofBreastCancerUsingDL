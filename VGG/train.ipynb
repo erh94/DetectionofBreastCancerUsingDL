{
 "cells": [
  {
   "cell_type": "code",
   "execution_count": null,
   "metadata": {},
   "outputs": [],
   "source": [
    "import os\n",
    "import sys\n",
    "import math\n",
    "import torch\n",
    "import torchvision\n",
    "import torch.nn as nn\n",
    "import torch.nn.functional as F\n",
    "import torch.utils.model_zoo as model_zoo\n",
    "import torchvision.models as models\n",
    "\n",
    "from torch.utils.data import DataLoader\n",
    "import matplotlib.pyplot as plt\n",
    "\n",
    "from pathlib import Path\n",
    "\n",
    "from tqdm import tqdm\n",
    "from utilsFn import *\n",
    "\n",
    "import BaseModel as B\n",
    "import CDDSM\n",
    "import time\n",
    "import logging\n",
    "import copy\n"
   ]
  },
  {
   "cell_type": "markdown",
   "metadata": {},
   "source": [
    "# Hyper Parameters"
   ]
  },
  {
   "cell_type": "code",
   "execution_count": null,
   "metadata": {},
   "outputs": [],
   "source": [
    "device = torch.device('cuda' if torch.cuda.is_available() else 'cpu')\n",
    "print('Device {}'.format(device))\n",
    "\n",
    "\n",
    "num_epochs = 200\n",
    "num_classes = 3\n",
    "batch_size = 5\n",
    "learning_rate = 0.01\n",
    "\n",
    "\n",
    "#Image size\n",
    "img_resize=H=W=512\n",
    "\n",
    "homedir = str(Path.home())\n",
    "\n",
    "experimentName = time.strftime(\"%d%b%Y%H%M\",time.localtime())"
   ]
  },
  {
   "cell_type": "markdown",
   "metadata": {},
   "source": [
    "# CSV preprocessing"
   ]
  },
  {
   "cell_type": "code",
   "execution_count": null,
   "metadata": {},
   "outputs": [],
   "source": [
    "train_df = CDDSM.createTrainFrame(homedir)\n",
    "test_df = CDDSM.createTestFrame(homedir)\n",
    "mammogram_dir = '/home/himanshu/CuratedDDSM/'\n",
    "train_file = 'train.csv'\n",
    "test_file = 'test.csv'\n",
    "train_df.to_csv(train_file)\n",
    "test_df.to_csv(test_file)\n",
    "\n",
    "classes = ('BENIGN', 'BENIGN_WITHOUT_CALLBACK', 'MALIGNANT')"
   ]
  },
  {
   "cell_type": "markdown",
   "metadata": {},
   "source": [
    "# Dataset"
   ]
  },
  {
   "cell_type": "code",
   "execution_count": null,
   "metadata": {},
   "outputs": [],
   "source": [
    "train_dataset =  CDDSM.MammographyDataset(train_file,homedir,img_resize)\n",
    "test_dataset = CDDSM.MammographyDataset(test_file,homedir,img_resize)\n",
    "# Data loader\n",
    "train_loader = torch.utils.data.DataLoader(dataset=train_dataset,\n",
    "                                           batch_size=batch_size, \n",
    "                                           shuffle=True)\n",
    "\n",
    "test_loader = torch.utils.data.DataLoader(dataset=test_dataset,\n",
    "                                          batch_size=1, \n",
    "                                          shuffle=False)\n",
    "\n",
    "number_of_training_data = train_dataset.__len__()\n",
    "number_of_testing_data = test_dataset.__len__()\n",
    "\n",
    "\n",
    "total_step = len(train_loader)\n"
   ]
  },
  {
   "cell_type": "code",
   "execution_count": null,
   "metadata": {},
   "outputs": [],
   "source": [
    "print('Size of training dataset {}'.format(number_of_training_data))\n",
    "print('Size of testing dataset {}'.format(number_of_testing_data))\n",
    "print('No. of Epochs: {}\\n Batch size: {}\\n Learning_rate : {}\\n Image size {}*{}\\n Step {}'\n",
    "        .format(num_epochs,batch_size,learning_rate,H,W,total_step))"
   ]
  },
  {
   "cell_type": "code",
   "execution_count": null,
   "metadata": {},
   "outputs": [],
   "source": [
    "model = B.getModel(3).to(device)\n",
    "# getModel gives a model for images 512*512\n",
    "# getModel1024 gives model for images 1024*1024\n",
    "# getModel1024L gives model for images 1024*1024\n",
    "\n",
    "# Loss and optimizer\n",
    "criterion = nn.CrossEntropyLoss()\n",
    "optimizer = torch.optim.Adam(model.parameters(), lr=learning_rate)\n"
   ]
  },
  {
   "cell_type": "code",
   "execution_count": null,
   "metadata": {},
   "outputs": [],
   "source": []
  },
  {
   "cell_type": "code",
   "execution_count": null,
   "metadata": {},
   "outputs": [],
   "source": []
  },
  {
   "cell_type": "code",
   "execution_count": null,
   "metadata": {},
   "outputs": [],
   "source": []
  },
  {
   "cell_type": "code",
   "execution_count": null,
   "metadata": {},
   "outputs": [],
   "source": []
  },
  {
   "cell_type": "code",
   "execution_count": null,
   "metadata": {},
   "outputs": [],
   "source": []
  },
  {
   "cell_type": "code",
   "execution_count": null,
   "metadata": {},
   "outputs": [],
   "source": []
  },
  {
   "cell_type": "code",
   "execution_count": null,
   "metadata": {},
   "outputs": [],
   "source": []
  },
  {
   "cell_type": "markdown",
   "metadata": {},
   "source": [
    "# Logger"
   ]
  },
  {
   "cell_type": "code",
   "execution_count": null,
   "metadata": {},
   "outputs": [],
   "source": [
    "prefix = 'E{}B{}Im{}lr{}'.format(num_epochs,batch_size,H,learning_rate)\n",
    "print(prefix)\n",
    "trainLogFile = openfile('./logs/'+experimentName+'/train{}.csv'.format(prefix))\n",
    "# valLogFile = openfile('./logs/'+experimentName+'/validation{}.csv'.format(prefix))\n",
    "testLogFile = openfile('./logs/'+experimentName+'/test{}.csv'.format(prefix))\n",
    "setup_logger('trainlog',trainLogFile)\n",
    "setup_logger('testlog',testLogFile)\n",
    "\n",
    "\n",
    "logger('Epoch,Step,Loss,Accuracy','info','trainlog')\n",
    "logger('index,predicted,true,path,Accuracy','info','testlog')"
   ]
  },
  {
   "cell_type": "code",
   "execution_count": null,
   "metadata": {},
   "outputs": [],
   "source": [
    "def accuracy(outputs,labels):\n",
    "    total=0\n",
    "    correct=0\n",
    "    _,predicted = torch.max(outputs.data,1)\n",
    "    total+=labels.size(0)\n",
    "    correct += (predicted==labels).sum().item()\n",
    "    acc = correct/total\n",
    "    return acc"
   ]
  },
  {
   "cell_type": "code",
   "execution_count": null,
   "metadata": {},
   "outputs": [],
   "source": [
    "def adjust_learning_rate(optimizer,epoch,initLR):\n",
    "    '''Sets the learning rate to the initial LR decayed by 10 every 50 epoch'''\n",
    "    lr = initLR * (0.1 ** (epoch // 50))\n",
    "    for param_group in optimizer.param_groups:\n",
    "        param_group['lr'] = lr"
   ]
  },
  {
   "cell_type": "code",
   "execution_count": null,
   "metadata": {},
   "outputs": [],
   "source": [
    "class AverageMeter(object):\n",
    "    \"\"\"Computes and stores the average and current value\"\"\"\n",
    "    def __init__(self):\n",
    "        self.reset()\n",
    "\n",
    "    def reset(self):\n",
    "        self.val = 0\n",
    "        self.avg = 0\n",
    "        self.sum = 0\n",
    "        self.count = 0\n",
    "\n",
    "    def update(self, val, n=1):\n",
    "        self.val = val\n",
    "        self.sum += val * n\n",
    "        self.count += n\n",
    "        self.avg = self.sum / self.count"
   ]
  },
  {
   "cell_type": "code",
   "execution_count": null,
   "metadata": {},
   "outputs": [],
   "source": [
    "bestacc = 0\n",
    "for epoch in range(num_epochs):\n",
    "    \n",
    "    avgacc = AverageMeter()\n",
    "    \n",
    "    adjust_learning_rate(optimizer,epoch+1,learning_rate)\n",
    "    \n",
    "    for i,(images,labels,_) in enumerate(train_loader):\n",
    "        model.train()\n",
    "        images = images.to(device)\n",
    "        labels = labels.to(device)\n",
    "        \n",
    "        outputs = model(images)\n",
    "        loss = criterion(outputs,labels)\n",
    "        \n",
    "        acc = accuracy(outputs,labels)\n",
    "        \n",
    "        avgacc.update(acc)\n",
    "        \n",
    "        optimizer.zero_grad()\n",
    "        loss.backward()\n",
    "        optimizer.step()\n",
    "        \n",
    "        logger('[{}/{}],[{}/{}],{:.4f},{:.4f}'.format(epoch+1,\n",
    "                                              num_epochs,i+1,\n",
    "                                              total_step,\n",
    "                                              loss.item(),\n",
    "                                              avgacc.avg),'info','trainlog')\n",
    "    is_best = avgacc.avg > best_acc\n",
    "    \n",
    "    best_acc = max(acc,best_acc)\n",
    "    \n",
    "    if(is_best):\n",
    "        print(\"Accuracy :{}\",avgacc.avg)\n",
    "        torch.save(model.state_dict(),open('./models/{}/model_{}.ckpt'.format(experimentName,\n",
    "                                                                    prefix)))\n",
    "        test(model,test_loader,epoch+1)"
   ]
  },
  {
   "cell_type": "code",
   "execution_count": null,
   "metadata": {},
   "outputs": [],
   "source": [
    "def test(model,test_loader,epoch):\n",
    "    model_test = copy.deepcopy(model)\n",
    "    model_test.eval()\n",
    "    \n",
    "    avgacc = AverageMeter()\n",
    "    \n",
    "    with torch.no_grad():\n",
    "        for i,(images,labels,path) in enumerate(test_loader):\n",
    "            images = images.to(device)\n",
    "            labels = labels.to(device)\n",
    "            \n",
    "            outputs = model(images)\n",
    "            _,predicted = torch.max(outputs.data,1)\n",
    "            \n",
    "            acc = accuracy(outputs,labels)\n",
    "            avgacc.update(acc)\n",
    "            \n",
    "\n",
    "            logger('{}/{},{},{},{},{}'.format(i,epoch,predicted.cpu().numpy()[0],\n",
    "                                              labels.cpu().numpy()[0],str(path),avgacc.avg),\n",
    "                   'info','testlog')"
   ]
  },
  {
   "cell_type": "code",
   "execution_count": null,
   "metadata": {},
   "outputs": [],
   "source": []
  },
  {
   "cell_type": "code",
   "execution_count": null,
   "metadata": {},
   "outputs": [],
   "source": []
  },
  {
   "cell_type": "code",
   "execution_count": null,
   "metadata": {},
   "outputs": [],
   "source": []
  },
  {
   "cell_type": "code",
   "execution_count": null,
   "metadata": {},
   "outputs": [],
   "source": []
  },
  {
   "cell_type": "code",
   "execution_count": null,
   "metadata": {},
   "outputs": [],
   "source": []
  },
  {
   "cell_type": "code",
   "execution_count": null,
   "metadata": {},
   "outputs": [],
   "source": []
  }
 ],
 "metadata": {
  "kernelspec": {
   "display_name": "Python 3",
   "language": "python",
   "name": "python3"
  },
  "language_info": {
   "codemirror_mode": {
    "name": "ipython",
    "version": 3
   },
   "file_extension": ".py",
   "mimetype": "text/x-python",
   "name": "python",
   "nbconvert_exporter": "python",
   "pygments_lexer": "ipython3",
   "version": "3.5.2"
  }
 },
 "nbformat": 4,
 "nbformat_minor": 2
}
