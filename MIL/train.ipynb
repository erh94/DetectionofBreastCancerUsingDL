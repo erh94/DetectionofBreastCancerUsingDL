{
 "cells": [
  {
   "cell_type": "code",
   "execution_count": 2,
   "metadata": {},
   "outputs": [],
   "source": [
    "import os\n",
    "import sys\n",
    "import math\n",
    "import torch\n",
    "import torchvision\n",
    "import torch.nn as nn\n",
    "import torch.nn.functional as F\n",
    "import torch.utils.model_zoo as model_zoo\n",
    "import torchvision.models as models\n",
    "\n",
    "from torch.utils.data import DataLoader\n",
    "from pathlib import Path\n",
    "from customDataset import *\n",
    "from tqdm import tqdm\n",
    "from utilsFn import *\n",
    "from model import *"
   ]
  },
  {
   "cell_type": "markdown",
   "metadata": {},
   "source": [
    "# Hyper Parameters"
   ]
  },
  {
   "cell_type": "code",
   "execution_count": 3,
   "metadata": {},
   "outputs": [],
   "source": [
    "\n",
    "numEpochs = 200\n",
    "batchSize = 1\n",
    "lr = 0.01\n",
    "classes = 2\n",
    "patchSize = H = W =512\n",
    "device = torch.device('cuda:0' if torch.cuda.is_available() else 'cpu')\n",
    "\n",
    "homedir = str(Path.home())\n",
    "trainFile = 'train.csv'\n",
    "testFile = 'test.csv'\n",
    "experimentName = time.strftime(\"%d%b%Y%H%M\",time.localtime())"
   ]
  },
  {
   "cell_type": "markdown",
   "metadata": {},
   "source": [
    "# Dataset"
   ]
  },
  {
   "cell_type": "code",
   "execution_count": 4,
   "metadata": {},
   "outputs": [],
   "source": [
    "dataset = MammographyDataset(trainFile,homedir,patchSize,mode='train')\n",
    "testDataset = MammographyDataset(testFile,homedir,patchSize,mode='test')\n",
    "trainDataset , valDataset = trainValSplit(dataset,val_share=0.1)\n",
    "trainLoader = DataLoader(trainDataset,batchSize,shuffle=True)\n",
    "valLoader = DataLoader(valDataset,batchSize,shuffle=True)\n",
    "#------------- test transformation should be stop-------------#\n",
    "testLoader = DataLoader(testDataset,batchSize,shuffle=False)\n",
    "\n",
    "numberOfTrainData = trainDataset.__len__()\n",
    "numberOfValData = valDataset.__len__()\n",
    "numberOfTestData =  testDataset.__len__()\n",
    "\n",
    "total_step=len(trainLoader)\n"
   ]
  },
  {
   "cell_type": "code",
   "execution_count": 5,
   "metadata": {},
   "outputs": [],
   "source": [
    "resnet = models.resnet18(pretrained=True)\n",
    "resnet = nn.Sequential(*list(resnet.children())[:-1])\n",
    "model = getCustomPretrained(resnet,classes)\n",
    "criterion = MIL_loss(0.5)\n",
    "# optimizer = torch.optim.Adam(filter(lambda p: p.requires_grad,model.parameters()),lr=lr)\n",
    "optimizer = torch.optim.SGD(filter(lambda p: p.requires_grad,model.parameters()),lr=lr,weight_decay=0.0001,momentum=0.9)\n",
    "model = model.to(device)\n"
   ]
  },
  {
   "cell_type": "code",
   "execution_count": null,
   "metadata": {},
   "outputs": [],
   "source": []
  },
  {
   "cell_type": "code",
   "execution_count": 5,
   "metadata": {},
   "outputs": [],
   "source": [
    "# dataiter = iter(trainLoader)\n",
    "# batch,bag_label,bag_img = dataiter.next()\n",
    "# images = batch[0].to(device)\n",
    "# labels = bag_label[0].to(device)\n",
    "# scores , pred = model(images)\n",
    "# loss = criterion(scores,labels)\n",
    "# acc = accuracyperImage(pred,labels)\n",
    "# optimizer.zero_grad()\n",
    "# loss.backward()\n",
    "# optimizer.step()\n",
    "# # print(loss.item())\n",
    "# print(pred)"
   ]
  },
  {
   "cell_type": "code",
   "execution_count": null,
   "metadata": {},
   "outputs": [],
   "source": []
  },
  {
   "cell_type": "code",
   "execution_count": 6,
   "metadata": {},
   "outputs": [],
   "source": [
    "# labels.data"
   ]
  },
  {
   "cell_type": "code",
   "execution_count": 7,
   "metadata": {},
   "outputs": [],
   "source": [
    "# with torch.no_grad():\n",
    "#     batch,bag_label,bag_img = dataiter.next()\n",
    "#     images = batch[0].to(device)\n",
    "#     labels = bag_label[0].to(device)\n",
    "#     scores , pred = model(images)\n",
    "#     print(pred)"
   ]
  },
  {
   "cell_type": "code",
   "execution_count": null,
   "metadata": {},
   "outputs": [],
   "source": []
  },
  {
   "cell_type": "code",
   "execution_count": 8,
   "metadata": {},
   "outputs": [],
   "source": [
    "# scores"
   ]
  },
  {
   "cell_type": "code",
   "execution_count": 9,
   "metadata": {},
   "outputs": [],
   "source": [
    "def accuracyperImage(pred,labels):\n",
    "    with torch.no_grad():\n",
    "        pred_class =  torch.zeros_like(pred)\n",
    "        pred_class[pred.argmax()]=1\n",
    "        if(torch.equal(pred_class,labels)):\n",
    "            return 1\n",
    "        else:\n",
    "            return 0"
   ]
  },
  {
   "cell_type": "code",
   "execution_count": 10,
   "metadata": {},
   "outputs": [],
   "source": [
    "def basiclogging(str):\n",
    "    logger('*******************MIL CNN*********************','info',str)\n",
    "    logger('Size of training dataset {}'.format(numberOfTrainData),'info',str)\n",
    "    logger('Size of Validation dataset {}'.format(numberOfValData),'info',str)\n",
    "    logger('Size of testing dataset {}'.format(numberOfTestData),'info',str)\n",
    "    \n",
    "    if(str=='trainlog'):\n",
    "        logger('No. of Epochs: {}\\n Batch size: {}\\n Learning_rate : {}\\n Patch size {}*{}\\n Step {}'\n",
    "            .format(numEpochs,batchSize,lr,H,W,total_step),'info',str)\n",
    "        logger('Epoch\\tBatchTime\\tAverageBatchTime\\tLoss\\tAverageLoss\\tAccuracy\\AverageAccuracy','info',str)\n",
    "    if(str=='vadLog'):\n",
    "        logger('Epoch\\tBatchTime\\tAverageBatchTime\\tLoss\\tAverageLoss\\tAccuracy\\AverageAccuracy','info',str)\n",
    "    if(str=='testlog'):\n",
    "        logger('Epoch\\tAccuracy\\tAverageAccuracy\\tTruePositive\\tTrueNegative\\tFalsePositive\\tFalseNegative\\tPath','info',str)"
   ]
  },
  {
   "cell_type": "markdown",
   "metadata": {},
   "source": [
    "# Logger"
   ]
  },
  {
   "cell_type": "code",
   "execution_count": 11,
   "metadata": {},
   "outputs": [
    {
     "name": "stderr",
     "output_type": "stream",
     "text": [
      "*******************MIL CNN*********************\n",
      "Size of training dataset 1998\n",
      "Size of Validation dataset 223\n",
      "Size of testing dataset 689\n",
      "No. of Epochs: 200\n",
      " Batch size: 1\n",
      " Learning_rate : 0.01\n",
      " Patch size 512*512\n",
      " Step 1998\n",
      "Epoch\tBatchTime\tAverageBatchTime\tLoss\tAverageLoss\tAccuracy\\AverageAccuracy\n",
      "*******************MIL CNN*********************\n",
      "Size of training dataset 1998\n",
      "Size of Validation dataset 223\n",
      "Size of testing dataset 689\n",
      "Epoch\tAccuracy\tAverageAccuracy\tTruePositive\tTrueNegative\tFalsePositive\tFalseNegative\tPath\n",
      "*******************MIL CNN*********************\n",
      "Size of training dataset 1998\n",
      "Size of Validation dataset 223\n",
      "Size of testing dataset 689\n",
      "Epoch\tBatchTime\tAverageBatchTime\tLoss\tAverageLoss\tAccuracy\\AverageAccuracy\n"
     ]
    }
   ],
   "source": [
    "trainLogFile = openfile('./logs/'+experimentName+'/train')\n",
    "valLogFile = openfile('./logs/'+experimentName+'/validation')\n",
    "testLogFile = openfile('./logs/'+experimentName+'/test')\n",
    "setup_logger('trainlog',trainLogFile)\n",
    "setup_logger('testlog',testLogFile)\n",
    "setup_logger('vadLog',valLogFile)\n",
    "basiclogging('trainlog')\n",
    "basiclogging('testlog')\n",
    "basiclogging('vadLog')"
   ]
  },
  {
   "cell_type": "code",
   "execution_count": 12,
   "metadata": {},
   "outputs": [],
   "source": [
    "def adjust_learning_rate(optimizer,epoch,initLR):\n",
    "    '''Sets the learning rate to the initial LR decayed by 10 every 50 epoch'''\n",
    "    lr = initLR * (0.1 ** (epoch // 50))\n",
    "    for param_group in optimizer.param_groups:\n",
    "        param_group['lr'] = lr"
   ]
  },
  {
   "cell_type": "code",
   "execution_count": 13,
   "metadata": {},
   "outputs": [],
   "source": [
    "def save_checkpoint(state,is_best,filename=openfile('./models/'+experimentName+'/checkpoint.pth.tar')):\n",
    "        torch.save(state,filename)\n",
    "        if is_best:\n",
    "            shutil.copyfile(filename,openfile('./models/'+experimentName+'/model_best.pth.tar'))"
   ]
  },
  {
   "cell_type": "code",
   "execution_count": 14,
   "metadata": {},
   "outputs": [],
   "source": [
    "class AverageMeter(object):\n",
    "    \"\"\"Computes and stores the average and current value\"\"\"\n",
    "    def __init__(self):\n",
    "        self.reset()\n",
    "\n",
    "    def reset(self):\n",
    "        self.val = 0\n",
    "        self.avg = 0\n",
    "        self.sum = 0\n",
    "        self.count = 0\n",
    "\n",
    "    def update(self, val, n=1):\n",
    "        self.val = val\n",
    "        self.sum += val * n\n",
    "        self.count += n\n",
    "        self.avg = self.sum / self.count"
   ]
  },
  {
   "cell_type": "code",
   "execution_count": null,
   "metadata": {},
   "outputs": [],
   "source": []
  },
  {
   "cell_type": "code",
   "execution_count": 15,
   "metadata": {},
   "outputs": [],
   "source": [
    "# from sklearn.metrics import confusion_matrix"
   ]
  },
  {
   "cell_type": "code",
   "execution_count": 16,
   "metadata": {},
   "outputs": [],
   "source": [
    "# pred = [0,1]\n",
    "# labels = [0,1]"
   ]
  },
  {
   "cell_type": "code",
   "execution_count": 17,
   "metadata": {},
   "outputs": [],
   "source": [
    "# import numpy as np\n",
    "# pred=np.asarray(pred)\n",
    "# labels = np.asarray(labels)"
   ]
  },
  {
   "cell_type": "code",
   "execution_count": 18,
   "metadata": {},
   "outputs": [],
   "source": [
    "dataiter = iter(testLoader)\n",
    "batch,bag_label,path = dataiter.next()"
   ]
  },
  {
   "cell_type": "code",
   "execution_count": 19,
   "metadata": {},
   "outputs": [
    {
     "data": {
      "text/plain": [
       "('/home/himanshu/CuratedDDSM/Test/Mass/CBIS-DDSM/Mass-Test_P_00016_LEFT_CC/1.3.6.1.4.1.9590.100.1.2.416403281812750683720028031170500130104/1.3.6.1.4.1.9590.100.1.2.245063149211255120613007755642780114172/000000.dcm',)"
      ]
     },
     "execution_count": 19,
     "metadata": {},
     "output_type": "execute_result"
    }
   ],
   "source": [
    "path"
   ]
  },
  {
   "cell_type": "code",
   "execution_count": 20,
   "metadata": {},
   "outputs": [],
   "source": [
    "def confusionMatrix(pred,labels):\n",
    "    tp=0\n",
    "    tn=0\n",
    "    fp=0\n",
    "    fn=0\n",
    "    \n",
    "    a=labels.argmax().cpu().numpy()\n",
    "    b=pred.argmax().cpu().numpy()\n",
    "\n",
    "    if(a==0 and b==0):\n",
    "        tn = 1\n",
    "    elif(a==0 and b==1):\n",
    "        fp=1\n",
    "    elif(a==1 and b==0):\n",
    "        fn=1\n",
    "    else:\n",
    "        tp=1\n",
    "        \n",
    "    return (tp,fp,fn,tn)\n",
    "    "
   ]
  },
  {
   "cell_type": "code",
   "execution_count": 21,
   "metadata": {},
   "outputs": [],
   "source": [
    "def test(testLoader,model,epoch):\n",
    "    truepositive = AverageMeter()\n",
    "    truenegative = AverageMeter()\n",
    "    falsepositive = AverageMeter()\n",
    "    falsenegative = AverageMeter()\n",
    "    accuracy = AverageMeter()\n",
    "    \n",
    "    model.eval()\n",
    "    with torch.no_grad():\n",
    "        for i,(batch,bag_label,path) in enumerate(testLoader):\n",
    "            images = batch[0].to(device)\n",
    "            labels = bag_label[0].to(device)\n",
    "\n",
    "            _,pred = model(images)\n",
    "            \n",
    "            acc = accuracyperImage(pred,labels)\n",
    "            \n",
    "            tp,fp,fn,tn = confusionMatrix(pred,labels)\n",
    "            \n",
    "            truepositive.update(tp)\n",
    "            truenegative.update(tn)\n",
    "            falsepositive.update(fp)\n",
    "            falsenegative.update(fn)\n",
    "            accuracy.update(acc)\n",
    "            #logger('Epoch\\tAccuracy\\tAverageAccuracy\\tTruePositive\\tTrueNegative\\tFalsePositive\\tFalseNegative\\tPath','info','testlog')\n",
    "            logger('{0}\\t{ac.val:.2f}\\t{ac.avg:.6f}\\t{tp.sum:.2f}\\t{tn.sum:.2f}\\t{fp.sum:.2f}\\t{fn.sum:.2f}\\t{p}'\n",
    "                   .format(i,ac=accuracy,tp=truepositive,tn=truenegative,\n",
    "                           fp=falsepositive,fn=falsenegative,p=path),'info','testlog')\n",
    "\n",
    "                   \n",
    "    print('Average Accuracy :',accuracy.avg)"
   ]
  },
  {
   "cell_type": "code",
   "execution_count": null,
   "metadata": {},
   "outputs": [],
   "source": []
  },
  {
   "cell_type": "code",
   "execution_count": null,
   "metadata": {},
   "outputs": [],
   "source": []
  },
  {
   "cell_type": "code",
   "execution_count": 22,
   "metadata": {},
   "outputs": [],
   "source": [
    "def train(train_loader,model,criterion,optimizer,epoch):\n",
    "    batch_time = AverageMeter()\n",
    "    data_time = AverageMeter()\n",
    "    losses = AverageMeter()\n",
    "    avgaccu =  AverageMeter()\n",
    "    \n",
    "    model.train()\n",
    "\n",
    "    end = time.time()\n",
    "    for i,(batch,bag_label,_) in enumerate(train_loader):\n",
    "        data_time.update(time.time()-end)\n",
    "        images = batch[0].to(device)\n",
    "        labels = bag_label[0].to(device)\n",
    "        \n",
    "        scores,pred = model(images)\n",
    "        loss = criterion(scores,labels)\n",
    "        \n",
    "        # top-k ? accuaracy \n",
    "        # for now evaluating normal accuracy\n",
    "        acc = accuracyperImage(pred,labels)\n",
    "        \n",
    "        #loss.item() to get the loss value from loss tensor\n",
    "        losses.update(loss.item(), images.size(0))\n",
    "        avgaccu.update(acc,images.size(0))\n",
    "        \n",
    "        optimizer.zero_grad()\n",
    "        loss.backward()\n",
    "        optimizer.step()\n",
    "        \n",
    "        batch_time.update(time.time() - end)\n",
    "        end = time.time()\n",
    "\n",
    "        logger('[{0}][{1}/{2}]\\t{batch_time.val:.6f}\\t {batch_time.avg:.6f}\\t'\n",
    "              '{loss.val:.9f}\\t{loss.avg:.9f}\\t'\n",
    "              '{acc.val:.9f}\\t{acc.avg:.9f}\\t'.format(epoch,i,len(train_loader),batch_time=batch_time,\n",
    "                                                      loss=losses, acc=avgaccu),'info','trainlog')"
   ]
  },
  {
   "cell_type": "code",
   "execution_count": 23,
   "metadata": {},
   "outputs": [],
   "source": [
    "def validate(val_loader, model, criterion):\n",
    "    batch_time = AverageMeter()\n",
    "    losses = AverageMeter()\n",
    "    avgaccu =  AverageMeter()\n",
    "\n",
    "    # switch to evaluate mode\n",
    "    model.eval()\n",
    "\n",
    "    with torch.no_grad():\n",
    "        end = time.time()\n",
    "        for i, (batch, bag_label,_) in enumerate(val_loader):\n",
    "            input= batch[0].to(device)\n",
    "            target = bag_label[0].to(device)\n",
    "            \n",
    "            # compute output\n",
    "            scores,pred = model(input)\n",
    "            loss = criterion(scores, target)\n",
    "\n",
    "            # measure accuracy and record loss\n",
    "            acc= accuracyperImage(pred, target)\n",
    "            losses.update(loss.item(), input.size(0))\n",
    "            avgaccu.update(acc,input.size(0))\n",
    "\n",
    "            # measure elapsed time\n",
    "            batch_time.update(time.time() - end)\n",
    "            end = time.time()\n",
    "\n",
    "            logger('[{0}/{1}]\\t'\n",
    "                  '{batch_time.val:.6f}\\t{batch_time.avg:.6f}\\t'\n",
    "                  '{loss.val:.9f}\\t{loss.avg:.9f})\\t'\n",
    "                  '{acc.val:.9f}\\t{acc.avg:.9f}'.format(\n",
    "                   i, len(val_loader), batch_time=batch_time, loss=losses,acc=avgaccu),'info','vadLog')\n",
    "\n",
    "        print(' * Acc {acc.avg:.9f}'\n",
    "              .format(acc=avgaccu))\n",
    "\n",
    "    return avgaccu.avg"
   ]
  },
  {
   "cell_type": "code",
   "execution_count": null,
   "metadata": {},
   "outputs": [],
   "source": []
  },
  {
   "cell_type": "markdown",
   "metadata": {},
   "source": [
    "# Analysis What's going wrong\n",
    "\n"
   ]
  },
  {
   "cell_type": "code",
   "execution_count": 24,
   "metadata": {},
   "outputs": [
    {
     "name": "stderr",
     "output_type": "stream",
     "text": [
      "0\t0.00\t0.000000\t1.00\t0.00\t0.00\t0.00\t('/home/himanshu/CuratedDDSM/Test/Mass/CBIS-DDSM/Mass-Test_P_00016_LEFT_CC/1.3.6.1.4.1.9590.100.1.2.416403281812750683720028031170500130104/1.3.6.1.4.1.9590.100.1.2.245063149211255120613007755642780114172/000000.dcm',)\n",
      "1\t0.00\t0.000000\t2.00\t0.00\t0.00\t0.00\t('/home/himanshu/CuratedDDSM/Test/Mass/CBIS-DDSM/Mass-Test_P_00016_LEFT_MLO/1.3.6.1.4.1.9590.100.1.2.125010935311829990124529079264106154392/1.3.6.1.4.1.9590.100.1.2.85952214611170506017891429690540035518/000000.dcm',)\n",
      "2\t0.00\t0.000000\t3.00\t0.00\t0.00\t0.00\t('/home/himanshu/CuratedDDSM/Test/Mass/CBIS-DDSM/Mass-Test_P_00017_LEFT_CC/1.3.6.1.4.1.9590.100.1.2.289610447411344525237308079592285912683/1.3.6.1.4.1.9590.100.1.2.22131189612893294827907969600765582967/000000.dcm',)\n",
      "3\t0.00\t0.000000\t4.00\t0.00\t0.00\t0.00\t('/home/himanshu/CuratedDDSM/Test/Mass/CBIS-DDSM/Mass-Test_P_00017_LEFT_MLO/1.3.6.1.4.1.9590.100.1.2.22378064110931464632702821421529389998/1.3.6.1.4.1.9590.100.1.2.239949064412092068706566726490415129934/000000.dcm',)\n",
      "4\t0.00\t0.000000\t4.00\t1.00\t0.00\t0.00\t('/home/himanshu/CuratedDDSM/Test/Mass/CBIS-DDSM/Mass-Test_P_00032_RIGHT_CC/1.3.6.1.4.1.9590.100.1.2.304236983211992984124654432490357131069/1.3.6.1.4.1.9590.100.1.2.215081818713600536113960661873725083371/000000.dcm',)\n",
      "5\t0.00\t0.000000\t4.00\t2.00\t0.00\t0.00\t('/home/himanshu/CuratedDDSM/Test/Mass/CBIS-DDSM/Mass-Test_P_00032_RIGHT_MLO/1.3.6.1.4.1.9590.100.1.2.383460844111861145315621774372145221963/1.3.6.1.4.1.9590.100.1.2.318799084911119262430780458250312419361/000000.dcm',)\n",
      "6\t0.00\t0.000000\t5.00\t2.00\t0.00\t0.00\t('/home/himanshu/CuratedDDSM/Test/Mass/CBIS-DDSM/Mass-Test_P_00037_RIGHT_CC/1.3.6.1.4.1.9590.100.1.2.103263415712637900541513993551878074559/1.3.6.1.4.1.9590.100.1.2.345140832810160378520078721331878282316/000000.dcm',)\n",
      "7\t0.00\t0.000000\t6.00\t2.00\t0.00\t0.00\t('/home/himanshu/CuratedDDSM/Test/Mass/CBIS-DDSM/Mass-Test_P_00037_RIGHT_MLO/1.3.6.1.4.1.9590.100.1.2.49507331912048398437734209542790648441/1.3.6.1.4.1.9590.100.1.2.59887648512379053809277845872128232362/000000.dcm',)\n",
      "8\t0.00\t0.000000\t6.00\t3.00\t0.00\t0.00\t('/home/himanshu/CuratedDDSM/Test/Mass/CBIS-DDSM/Mass-Test_P_00056_LEFT_MLO/1.3.6.1.4.1.9590.100.1.2.220166110811135536606332995863320150322/1.3.6.1.4.1.9590.100.1.2.302678903112208607702983192631368637142/000000.dcm',)\n",
      "9\t0.00\t0.000000\t7.00\t3.00\t0.00\t0.00\t('/home/himanshu/CuratedDDSM/Test/Mass/CBIS-DDSM/Mass-Test_P_00066_LEFT_CC/1.3.6.1.4.1.9590.100.1.2.428538815312301622227987772360359712982/1.3.6.1.4.1.9590.100.1.2.398695186611278204714097118000162925433/000000.dcm',)\n",
      "10\t0.00\t0.000000\t8.00\t3.00\t0.00\t0.00\t('/home/himanshu/CuratedDDSM/Test/Mass/CBIS-DDSM/Mass-Test_P_00066_LEFT_MLO/1.3.6.1.4.1.9590.100.1.2.341876953111803431629477262642555898300/1.3.6.1.4.1.9590.100.1.2.334704328611391643805508991083300190349/000000.dcm',)\n",
      "11\t0.00\t0.000000\t8.00\t4.00\t0.00\t0.00\t('/home/himanshu/CuratedDDSM/Test/Mass/CBIS-DDSM/Mass-Test_P_00099_LEFT_MLO/1.3.6.1.4.1.9590.100.1.2.11386095112357691228887883950248511792/1.3.6.1.4.1.9590.100.1.2.188340832412548997809157866361536031816/000000.dcm',)\n",
      "12\t0.00\t0.000000\t8.00\t4.00\t0.00\t1.00\t('/home/himanshu/CuratedDDSM/Test/Mass/CBIS-DDSM/Mass-Test_P_00114_LEFT_MLO/1.3.6.1.4.1.9590.100.1.2.426642259212039288537619531820319957563/1.3.6.1.4.1.9590.100.1.2.17873451612287715806233693563532897726/000000.dcm',)\n",
      "13\t0.00\t0.000000\t9.00\t4.00\t0.00\t1.00\t('/home/himanshu/CuratedDDSM/Test/Mass/CBIS-DDSM/Mass-Test_P_00116_RIGHT_CC/1.3.6.1.4.1.9590.100.1.2.276034807912119504205504050531568173393/1.3.6.1.4.1.9590.100.1.2.18321540012684193708096260002352282494/000000.dcm',)\n",
      "14\t0.00\t0.000000\t10.00\t4.00\t0.00\t1.00\t('/home/himanshu/CuratedDDSM/Test/Mass/CBIS-DDSM/Mass-Test_P_00116_RIGHT_CC/1.3.6.1.4.1.9590.100.1.2.276034807912119504205504050531568173393/1.3.6.1.4.1.9590.100.1.2.18321540012684193708096260002352282494/000000.dcm',)\n",
      "15\t0.00\t0.000000\t11.00\t4.00\t0.00\t1.00\t('/home/himanshu/CuratedDDSM/Test/Mass/CBIS-DDSM/Mass-Test_P_00116_RIGHT_MLO/1.3.6.1.4.1.9590.100.1.2.54031833512564486812025066801666499311/1.3.6.1.4.1.9590.100.1.2.170208377412670496001193197311058787253/000000.dcm',)\n",
      "16\t0.00\t0.000000\t12.00\t4.00\t0.00\t1.00\t('/home/himanshu/CuratedDDSM/Test/Mass/CBIS-DDSM/Mass-Test_P_00116_RIGHT_MLO/1.3.6.1.4.1.9590.100.1.2.54031833512564486812025066801666499311/1.3.6.1.4.1.9590.100.1.2.170208377412670496001193197311058787253/000000.dcm',)\n",
      "17\t0.00\t0.000000\t13.00\t4.00\t0.00\t1.00\t('/home/himanshu/CuratedDDSM/Test/Mass/CBIS-DDSM/Mass-Test_P_00118_RIGHT_CC/1.3.6.1.4.1.9590.100.1.2.104062888312124395110472196303497517337/1.3.6.1.4.1.9590.100.1.2.145324071712988313837851767370236088245/000000.dcm',)\n",
      "18\t0.00\t0.000000\t14.00\t4.00\t0.00\t1.00\t('/home/himanshu/CuratedDDSM/Test/Mass/CBIS-DDSM/Mass-Test_P_00118_RIGHT_MLO/1.3.6.1.4.1.9590.100.1.2.173091565613714337803258515592848516144/1.3.6.1.4.1.9590.100.1.2.180398664411489277541426804902596097273/000000.dcm',)\n",
      "19\t0.00\t0.000000\t14.00\t5.00\t0.00\t1.00\t('/home/himanshu/CuratedDDSM/Test/Mass/CBIS-DDSM/Mass-Test_P_00124_RIGHT_CC/1.3.6.1.4.1.9590.100.1.2.144034819812726139802846846992892981924/1.3.6.1.4.1.9590.100.1.2.184354810011854598636596678663775491735/000000.dcm',)\n",
      "20\t0.00\t0.000000\t14.00\t6.00\t0.00\t1.00\t('/home/himanshu/CuratedDDSM/Test/Mass/CBIS-DDSM/Mass-Test_P_00126_RIGHT_CC/1.3.6.1.4.1.9590.100.1.2.22747084312140507728161754942663795488/1.3.6.1.4.1.9590.100.1.2.191684932212508771025952925500117559600/000000.dcm',)\n",
      "21\t0.00\t0.000000\t14.00\t7.00\t0.00\t1.00\t('/home/himanshu/CuratedDDSM/Test/Mass/CBIS-DDSM/Mass-Test_P_00126_RIGHT_MLO/1.3.6.1.4.1.9590.100.1.2.70667478211944840709051303932659614839/1.3.6.1.4.1.9590.100.1.2.53981029411515416635208605883563819654/000000.dcm',)\n",
      "22\t0.00\t0.000000\t14.00\t8.00\t0.00\t1.00\t('/home/himanshu/CuratedDDSM/Test/Mass/CBIS-DDSM/Mass-Test_P_00131_LEFT_CC/1.3.6.1.4.1.9590.100.1.2.199600843512816293417556051482777314613/1.3.6.1.4.1.9590.100.1.2.260826680211463150629506377090181207701/000000.dcm',)\n",
      "23\t0.00\t0.000000\t14.00\t9.00\t0.00\t1.00\t('/home/himanshu/CuratedDDSM/Test/Mass/CBIS-DDSM/Mass-Test_P_00131_LEFT_MLO/1.3.6.1.4.1.9590.100.1.2.309375440111278883708566178901157546005/1.3.6.1.4.1.9590.100.1.2.401212390711913852429512943903151027124/000000.dcm',)\n",
      "24\t0.00\t0.000000\t15.00\t9.00\t0.00\t1.00\t('/home/himanshu/CuratedDDSM/Test/Mass/CBIS-DDSM/Mass-Test_P_00147_RIGHT_CC/1.3.6.1.4.1.9590.100.1.2.92589011013893283212073821540402173445/1.3.6.1.4.1.9590.100.1.2.124069151812440873834583830380563934034/000000.dcm',)\n",
      "25\t0.00\t0.000000\t16.00\t9.00\t0.00\t1.00\t('/home/himanshu/CuratedDDSM/Test/Mass/CBIS-DDSM/Mass-Test_P_00147_RIGHT_MLO/1.3.6.1.4.1.9590.100.1.2.424993968812431368220412069700568987396/1.3.6.1.4.1.9590.100.1.2.175596647411836779119790938952148519597/000000.dcm',)\n",
      "26\t0.00\t0.000000\t16.00\t10.00\t0.00\t1.00\t('/home/himanshu/CuratedDDSM/Test/Mass/CBIS-DDSM/Mass-Test_P_00156_RIGHT_MLO/1.3.6.1.4.1.9590.100.1.2.2171149411655952503932194831517133044/1.3.6.1.4.1.9590.100.1.2.339564316712843853222719131073480450951/000000.dcm',)\n",
      "27\t0.00\t0.000000\t16.00\t10.00\t0.00\t2.00\t('/home/himanshu/CuratedDDSM/Test/Mass/CBIS-DDSM/Mass-Test_P_00158_RIGHT_MLO/1.3.6.1.4.1.9590.100.1.2.107220511411815482713935056993319412742/1.3.6.1.4.1.9590.100.1.2.337692867012177696402442541140093720047/000000.dcm',)\n",
      "28\t0.00\t0.000000\t16.00\t10.00\t0.00\t3.00\t('/home/himanshu/CuratedDDSM/Test/Mass/CBIS-DDSM/Mass-Test_P_00159_RIGHT_MLO/1.3.6.1.4.1.9590.100.1.2.332244550411559930737926378704265726558/1.3.6.1.4.1.9590.100.1.2.318175244011353566129653618441084786424/000000.dcm',)\n",
      "29\t0.00\t0.000000\t16.00\t11.00\t0.00\t3.00\t('/home/himanshu/CuratedDDSM/Test/Mass/CBIS-DDSM/Mass-Test_P_00171_RIGHT_CC/1.3.6.1.4.1.9590.100.1.2.283603431611705161727833381652354841440/1.3.6.1.4.1.9590.100.1.2.53164963713539945704420389270899642316/000000.dcm',)\n",
      "30\t0.00\t0.000000\t16.00\t12.00\t0.00\t3.00\t('/home/himanshu/CuratedDDSM/Test/Mass/CBIS-DDSM/Mass-Test_P_00171_RIGHT_MLO/1.3.6.1.4.1.9590.100.1.2.379336906213809032941283959373753195797/1.3.6.1.4.1.9590.100.1.2.272584833612462853710337893452059578587/000000.dcm',)\n",
      "31\t0.00\t0.000000\t16.00\t13.00\t0.00\t3.00\t('/home/himanshu/CuratedDDSM/Test/Mass/CBIS-DDSM/Mass-Test_P_00173_LEFT_CC/1.3.6.1.4.1.9590.100.1.2.141041603211541608539911824931783400682/1.3.6.1.4.1.9590.100.1.2.280437157711493692000884645494047094463/000000.dcm',)\n"
     ]
    },
    {
     "name": "stderr",
     "output_type": "stream",
     "text": [
      "32\t0.00\t0.000000\t16.00\t14.00\t0.00\t3.00\t('/home/himanshu/CuratedDDSM/Test/Mass/CBIS-DDSM/Mass-Test_P_00173_LEFT_MLO/1.3.6.1.4.1.9590.100.1.2.307793166912734364002335835122757098128/1.3.6.1.4.1.9590.100.1.2.116019378912146865822367996522433813122/000000.dcm',)\n",
      "33\t0.00\t0.000000\t16.00\t15.00\t0.00\t3.00\t('/home/himanshu/CuratedDDSM/Test/Mass/CBIS-DDSM/Mass-Test_P_00173_RIGHT_CC/1.3.6.1.4.1.9590.100.1.2.332975382811750735925404835072209681216/1.3.6.1.4.1.9590.100.1.2.164477615412098522241149597592405252179/000000.dcm',)\n",
      "34\t0.00\t0.000000\t16.00\t16.00\t0.00\t3.00\t('/home/himanshu/CuratedDDSM/Test/Mass/CBIS-DDSM/Mass-Test_P_00173_RIGHT_CC/1.3.6.1.4.1.9590.100.1.2.332975382811750735925404835072209681216/1.3.6.1.4.1.9590.100.1.2.164477615412098522241149597592405252179/000000.dcm',)\n",
      "35\t0.00\t0.000000\t16.00\t17.00\t0.00\t3.00\t('/home/himanshu/CuratedDDSM/Test/Mass/CBIS-DDSM/Mass-Test_P_00173_RIGHT_MLO/1.3.6.1.4.1.9590.100.1.2.246073522010210423031364901130375270352/1.3.6.1.4.1.9590.100.1.2.95930514311143196521379851620797527375/000000.dcm',)\n",
      "36\t0.00\t0.000000\t16.00\t18.00\t0.00\t3.00\t('/home/himanshu/CuratedDDSM/Test/Mass/CBIS-DDSM/Mass-Test_P_00173_RIGHT_MLO/1.3.6.1.4.1.9590.100.1.2.246073522010210423031364901130375270352/1.3.6.1.4.1.9590.100.1.2.95930514311143196521379851620797527375/000000.dcm',)\n",
      "37\t0.00\t0.000000\t16.00\t19.00\t0.00\t3.00\t('/home/himanshu/CuratedDDSM/Test/Mass/CBIS-DDSM/Mass-Test_P_00177_LEFT_CC/1.3.6.1.4.1.9590.100.1.2.316631552611307158136515125023285356852/1.3.6.1.4.1.9590.100.1.2.358353735511679745623895707213815894557/000000.dcm',)\n",
      "38\t0.00\t0.000000\t16.00\t20.00\t0.00\t3.00\t('/home/himanshu/CuratedDDSM/Test/Mass/CBIS-DDSM/Mass-Test_P_00177_LEFT_MLO/1.3.6.1.4.1.9590.100.1.2.74773407310762170613570899683308661988/1.3.6.1.4.1.9590.100.1.2.277904999011825388509729900852338577655/000000.dcm',)\n",
      "39\t0.00\t0.000000\t16.00\t21.00\t0.00\t3.00\t('/home/himanshu/CuratedDDSM/Test/Mass/CBIS-DDSM/Mass-Test_P_00192_RIGHT_CC/1.3.6.1.4.1.9590.100.1.2.67829310312682266325756632422415740063/1.3.6.1.4.1.9590.100.1.2.3137485612561155103546988960022747853/000000.dcm',)\n",
      "40\t0.00\t0.000000\t17.00\t21.00\t0.00\t3.00\t('/home/himanshu/CuratedDDSM/Test/Mass/CBIS-DDSM/Mass-Test_P_00194_RIGHT_CC/1.3.6.1.4.1.9590.100.1.2.278178041811791482632634750984059952705/1.3.6.1.4.1.9590.100.1.2.81893494413544881216885610760867316033/000000.dcm',)\n",
      "41\t0.00\t0.000000\t18.00\t21.00\t0.00\t3.00\t('/home/himanshu/CuratedDDSM/Test/Mass/CBIS-DDSM/Mass-Test_P_00194_RIGHT_MLO/1.3.6.1.4.1.9590.100.1.2.144420560111936994726624821041575264001/1.3.6.1.4.1.9590.100.1.2.327009617710603607241815735472292092939/000000.dcm',)\n",
      "42\t0.00\t0.000000\t19.00\t21.00\t0.00\t3.00\t('/home/himanshu/CuratedDDSM/Test/Mass/CBIS-DDSM/Mass-Test_P_00198_LEFT_CC/1.3.6.1.4.1.9590.100.1.2.129145373112085287530335284941027251212/1.3.6.1.4.1.9590.100.1.2.118047428013786503524914809830264670736/000000.dcm',)\n",
      "43\t0.00\t0.000000\t20.00\t21.00\t0.00\t3.00\t('/home/himanshu/CuratedDDSM/Test/Mass/CBIS-DDSM/Mass-Test_P_00198_LEFT_MLO/1.3.6.1.4.1.9590.100.1.2.278334670211287129516034046724147967253/1.3.6.1.4.1.9590.100.1.2.297424856211796189434977419630658917185/000000.dcm',)\n",
      "44\t0.00\t0.000000\t20.00\t21.00\t0.00\t4.00\t('/home/himanshu/CuratedDDSM/Test/Mass/CBIS-DDSM/Mass-Test_P_00200_LEFT_CC/1.3.6.1.4.1.9590.100.1.2.193058208811441705135781600144020416066/1.3.6.1.4.1.9590.100.1.2.336327858311367277236448869284215926808/000000.dcm',)\n",
      "45\t0.00\t0.000000\t20.00\t21.00\t0.00\t5.00\t('/home/himanshu/CuratedDDSM/Test/Mass/CBIS-DDSM/Mass-Test_P_00200_LEFT_MLO/1.3.6.1.4.1.9590.100.1.2.70212433210977313502720313700461826092/1.3.6.1.4.1.9590.100.1.2.113744146612261609941896651823281963481/000000.dcm',)\n",
      "46\t0.00\t0.000000\t20.00\t21.00\t0.00\t6.00\t('/home/himanshu/CuratedDDSM/Test/Mass/CBIS-DDSM/Mass-Test_P_00200_RIGHT_CC/1.3.6.1.4.1.9590.100.1.2.427289514011749298904722090804103695196/1.3.6.1.4.1.9590.100.1.2.201851292211399543509571257810125997042/000000.dcm',)\n",
      "47\t0.00\t0.000000\t20.00\t21.00\t0.00\t7.00\t('/home/himanshu/CuratedDDSM/Test/Mass/CBIS-DDSM/Mass-Test_P_00200_RIGHT_MLO/1.3.6.1.4.1.9590.100.1.2.95778807111053541542586669133850991269/1.3.6.1.4.1.9590.100.1.2.69686622212106490038029293173339040059/000000.dcm',)\n",
      "48\t0.00\t0.000000\t21.00\t21.00\t0.00\t7.00\t('/home/himanshu/CuratedDDSM/Test/Mass/CBIS-DDSM/Mass-Test_P_00202_RIGHT_CC/1.3.6.1.4.1.9590.100.1.2.77406354712754913430881806481509468559/1.3.6.1.4.1.9590.100.1.2.132656983910181108503657484122092972733/000000.dcm',)\n",
      "49\t0.00\t0.000000\t22.00\t21.00\t0.00\t7.00\t('/home/himanshu/CuratedDDSM/Test/Mass/CBIS-DDSM/Mass-Test_P_00202_RIGHT_MLO/1.3.6.1.4.1.9590.100.1.2.246157077711172962303524727432887467921/1.3.6.1.4.1.9590.100.1.2.170386073613548467332046481102197058911/000000.dcm',)\n"
     ]
    },
    {
     "ename": "KeyboardInterrupt",
     "evalue": "",
     "output_type": "error",
     "traceback": [
      "\u001b[0;31m---------------------------------------------------------------------------\u001b[0m",
      "\u001b[0;31mKeyboardInterrupt\u001b[0m                         Traceback (most recent call last)",
      "\u001b[0;32m<ipython-input-24-0c83885b3764>\u001b[0m in \u001b[0;36m<module>\u001b[0;34m\u001b[0m\n\u001b[0;32m----> 1\u001b[0;31m \u001b[0mtest\u001b[0m\u001b[0;34m(\u001b[0m\u001b[0mtestLoader\u001b[0m\u001b[0;34m,\u001b[0m\u001b[0mmodel\u001b[0m\u001b[0;34m,\u001b[0m\u001b[0;36m1\u001b[0m\u001b[0;34m)\u001b[0m\u001b[0;34m\u001b[0m\u001b[0m\n\u001b[0m",
      "\u001b[0;32m<ipython-input-21-c9adfb50fbcc>\u001b[0m in \u001b[0;36mtest\u001b[0;34m(testLoader, model, epoch)\u001b[0m\n\u001b[1;32m      8\u001b[0m     \u001b[0mmodel\u001b[0m\u001b[0;34m.\u001b[0m\u001b[0meval\u001b[0m\u001b[0;34m(\u001b[0m\u001b[0;34m)\u001b[0m\u001b[0;34m\u001b[0m\u001b[0m\n\u001b[1;32m      9\u001b[0m     \u001b[0;32mwith\u001b[0m \u001b[0mtorch\u001b[0m\u001b[0;34m.\u001b[0m\u001b[0mno_grad\u001b[0m\u001b[0;34m(\u001b[0m\u001b[0;34m)\u001b[0m\u001b[0;34m:\u001b[0m\u001b[0;34m\u001b[0m\u001b[0m\n\u001b[0;32m---> 10\u001b[0;31m         \u001b[0;32mfor\u001b[0m \u001b[0mi\u001b[0m\u001b[0;34m,\u001b[0m\u001b[0;34m(\u001b[0m\u001b[0mbatch\u001b[0m\u001b[0;34m,\u001b[0m\u001b[0mbag_label\u001b[0m\u001b[0;34m,\u001b[0m\u001b[0mpath\u001b[0m\u001b[0;34m)\u001b[0m \u001b[0;32min\u001b[0m \u001b[0menumerate\u001b[0m\u001b[0;34m(\u001b[0m\u001b[0mtestLoader\u001b[0m\u001b[0;34m)\u001b[0m\u001b[0;34m:\u001b[0m\u001b[0;34m\u001b[0m\u001b[0m\n\u001b[0m\u001b[1;32m     11\u001b[0m             \u001b[0mimages\u001b[0m \u001b[0;34m=\u001b[0m \u001b[0mbatch\u001b[0m\u001b[0;34m[\u001b[0m\u001b[0;36m0\u001b[0m\u001b[0;34m]\u001b[0m\u001b[0;34m.\u001b[0m\u001b[0mto\u001b[0m\u001b[0;34m(\u001b[0m\u001b[0mdevice\u001b[0m\u001b[0;34m)\u001b[0m\u001b[0;34m\u001b[0m\u001b[0m\n\u001b[1;32m     12\u001b[0m             \u001b[0mlabels\u001b[0m \u001b[0;34m=\u001b[0m \u001b[0mbag_label\u001b[0m\u001b[0;34m[\u001b[0m\u001b[0;36m0\u001b[0m\u001b[0;34m]\u001b[0m\u001b[0;34m.\u001b[0m\u001b[0mto\u001b[0m\u001b[0;34m(\u001b[0m\u001b[0mdevice\u001b[0m\u001b[0;34m)\u001b[0m\u001b[0;34m\u001b[0m\u001b[0m\n",
      "\u001b[0;32m~/py3Env/lib/python3.5/site-packages/torch/utils/data/dataloader.py\u001b[0m in \u001b[0;36m__next__\u001b[0;34m(self)\u001b[0m\n\u001b[1;32m    312\u001b[0m         \u001b[0;32mif\u001b[0m \u001b[0mself\u001b[0m\u001b[0;34m.\u001b[0m\u001b[0mnum_workers\u001b[0m \u001b[0;34m==\u001b[0m \u001b[0;36m0\u001b[0m\u001b[0;34m:\u001b[0m  \u001b[0;31m# same-process loading\u001b[0m\u001b[0;34m\u001b[0m\u001b[0m\n\u001b[1;32m    313\u001b[0m             \u001b[0mindices\u001b[0m \u001b[0;34m=\u001b[0m \u001b[0mnext\u001b[0m\u001b[0;34m(\u001b[0m\u001b[0mself\u001b[0m\u001b[0;34m.\u001b[0m\u001b[0msample_iter\u001b[0m\u001b[0;34m)\u001b[0m  \u001b[0;31m# may raise StopIteration\u001b[0m\u001b[0;34m\u001b[0m\u001b[0m\n\u001b[0;32m--> 314\u001b[0;31m             \u001b[0mbatch\u001b[0m \u001b[0;34m=\u001b[0m \u001b[0mself\u001b[0m\u001b[0;34m.\u001b[0m\u001b[0mcollate_fn\u001b[0m\u001b[0;34m(\u001b[0m\u001b[0;34m[\u001b[0m\u001b[0mself\u001b[0m\u001b[0;34m.\u001b[0m\u001b[0mdataset\u001b[0m\u001b[0;34m[\u001b[0m\u001b[0mi\u001b[0m\u001b[0;34m]\u001b[0m \u001b[0;32mfor\u001b[0m \u001b[0mi\u001b[0m \u001b[0;32min\u001b[0m \u001b[0mindices\u001b[0m\u001b[0;34m]\u001b[0m\u001b[0;34m)\u001b[0m\u001b[0;34m\u001b[0m\u001b[0m\n\u001b[0m\u001b[1;32m    315\u001b[0m             \u001b[0;32mif\u001b[0m \u001b[0mself\u001b[0m\u001b[0;34m.\u001b[0m\u001b[0mpin_memory\u001b[0m\u001b[0;34m:\u001b[0m\u001b[0;34m\u001b[0m\u001b[0m\n\u001b[1;32m    316\u001b[0m                 \u001b[0mbatch\u001b[0m \u001b[0;34m=\u001b[0m \u001b[0mpin_memory_batch\u001b[0m\u001b[0;34m(\u001b[0m\u001b[0mbatch\u001b[0m\u001b[0;34m)\u001b[0m\u001b[0;34m\u001b[0m\u001b[0m\n",
      "\u001b[0;32m~/py3Env/lib/python3.5/site-packages/torch/utils/data/dataloader.py\u001b[0m in \u001b[0;36m<listcomp>\u001b[0;34m(.0)\u001b[0m\n\u001b[1;32m    312\u001b[0m         \u001b[0;32mif\u001b[0m \u001b[0mself\u001b[0m\u001b[0;34m.\u001b[0m\u001b[0mnum_workers\u001b[0m \u001b[0;34m==\u001b[0m \u001b[0;36m0\u001b[0m\u001b[0;34m:\u001b[0m  \u001b[0;31m# same-process loading\u001b[0m\u001b[0;34m\u001b[0m\u001b[0m\n\u001b[1;32m    313\u001b[0m             \u001b[0mindices\u001b[0m \u001b[0;34m=\u001b[0m \u001b[0mnext\u001b[0m\u001b[0;34m(\u001b[0m\u001b[0mself\u001b[0m\u001b[0;34m.\u001b[0m\u001b[0msample_iter\u001b[0m\u001b[0;34m)\u001b[0m  \u001b[0;31m# may raise StopIteration\u001b[0m\u001b[0;34m\u001b[0m\u001b[0m\n\u001b[0;32m--> 314\u001b[0;31m             \u001b[0mbatch\u001b[0m \u001b[0;34m=\u001b[0m \u001b[0mself\u001b[0m\u001b[0;34m.\u001b[0m\u001b[0mcollate_fn\u001b[0m\u001b[0;34m(\u001b[0m\u001b[0;34m[\u001b[0m\u001b[0mself\u001b[0m\u001b[0;34m.\u001b[0m\u001b[0mdataset\u001b[0m\u001b[0;34m[\u001b[0m\u001b[0mi\u001b[0m\u001b[0;34m]\u001b[0m \u001b[0;32mfor\u001b[0m \u001b[0mi\u001b[0m \u001b[0;32min\u001b[0m \u001b[0mindices\u001b[0m\u001b[0;34m]\u001b[0m\u001b[0;34m)\u001b[0m\u001b[0;34m\u001b[0m\u001b[0m\n\u001b[0m\u001b[1;32m    315\u001b[0m             \u001b[0;32mif\u001b[0m \u001b[0mself\u001b[0m\u001b[0;34m.\u001b[0m\u001b[0mpin_memory\u001b[0m\u001b[0;34m:\u001b[0m\u001b[0;34m\u001b[0m\u001b[0m\n\u001b[1;32m    316\u001b[0m                 \u001b[0mbatch\u001b[0m \u001b[0;34m=\u001b[0m \u001b[0mpin_memory_batch\u001b[0m\u001b[0;34m(\u001b[0m\u001b[0mbatch\u001b[0m\u001b[0;34m)\u001b[0m\u001b[0;34m\u001b[0m\u001b[0m\n",
      "\u001b[0;32m~/DetectionofBreastCancerUsingDL/MIL/customDataset.py\u001b[0m in \u001b[0;36m__getitem__\u001b[0;34m(self, index)\u001b[0m\n\u001b[1;32m     71\u001b[0m \u001b[0;34m\u001b[0m\u001b[0m\n\u001b[1;32m     72\u001b[0m         \u001b[0mimg\u001b[0m\u001b[0;34m=\u001b[0m \u001b[0mDCM\u001b[0m\u001b[0;34m.\u001b[0m\u001b[0mread_file\u001b[0m\u001b[0;34m(\u001b[0m\u001b[0mimage_path\u001b[0m\u001b[0;34m)\u001b[0m\u001b[0;34m.\u001b[0m\u001b[0mpixel_array\u001b[0m\u001b[0;34m.\u001b[0m\u001b[0mastype\u001b[0m\u001b[0;34m(\u001b[0m\u001b[0mfloat\u001b[0m\u001b[0;34m)\u001b[0m\u001b[0;34m\u001b[0m\u001b[0m\n\u001b[0;32m---> 73\u001b[0;31m         \u001b[0mmask\u001b[0m \u001b[0;34m=\u001b[0m \u001b[0mDCM\u001b[0m\u001b[0;34m.\u001b[0m\u001b[0mread_file\u001b[0m\u001b[0;34m(\u001b[0m\u001b[0mmask_path\u001b[0m\u001b[0;34m)\u001b[0m\u001b[0;34m.\u001b[0m\u001b[0mpixel_array\u001b[0m\u001b[0;34m.\u001b[0m\u001b[0mastype\u001b[0m\u001b[0;34m(\u001b[0m\u001b[0mfloat\u001b[0m\u001b[0;34m)\u001b[0m\u001b[0;34m\u001b[0m\u001b[0m\n\u001b[0m\u001b[1;32m     74\u001b[0m \u001b[0;34m\u001b[0m\u001b[0m\n\u001b[1;32m     75\u001b[0m         \u001b[0mimg\u001b[0m \u001b[0;34m=\u001b[0m \u001b[0;34m(\u001b[0m\u001b[0mnp\u001b[0m\u001b[0;34m.\u001b[0m\u001b[0mmaximum\u001b[0m\u001b[0;34m(\u001b[0m\u001b[0mimg\u001b[0m\u001b[0;34m,\u001b[0m\u001b[0;36m0\u001b[0m\u001b[0;34m)\u001b[0m\u001b[0;34m/\u001b[0m \u001b[0mimg\u001b[0m\u001b[0;34m.\u001b[0m\u001b[0mmax\u001b[0m\u001b[0;34m(\u001b[0m\u001b[0;34m)\u001b[0m\u001b[0;34m)\u001b[0m \u001b[0;34m*\u001b[0m \u001b[0;36m255\u001b[0m\u001b[0;34m\u001b[0m\u001b[0m\n",
      "\u001b[0;32m~/py3Env/lib/python3.5/site-packages/pydicom/filereader.py\u001b[0m in \u001b[0;36mdcmread\u001b[0;34m(fp, defer_size, stop_before_pixels, force, specific_tags)\u001b[0m\n\u001b[1;32m    854\u001b[0m         \u001b[0;32mexcept\u001b[0m \u001b[0mException\u001b[0m\u001b[0;34m:\u001b[0m\u001b[0;34m\u001b[0m\u001b[0m\n\u001b[1;32m    855\u001b[0m             \u001b[0mlogger\u001b[0m\u001b[0;34m.\u001b[0m\u001b[0mdebug\u001b[0m\u001b[0;34m(\u001b[0m\u001b[0;34m\"Reading file '{0}'\"\u001b[0m\u001b[0;34m.\u001b[0m\u001b[0mformat\u001b[0m\u001b[0;34m(\u001b[0m\u001b[0mfp\u001b[0m\u001b[0;34m)\u001b[0m\u001b[0;34m)\u001b[0m\u001b[0;34m\u001b[0m\u001b[0m\n\u001b[0;32m--> 856\u001b[0;31m         \u001b[0mfp\u001b[0m \u001b[0;34m=\u001b[0m \u001b[0mopen\u001b[0m\u001b[0;34m(\u001b[0m\u001b[0mfp\u001b[0m\u001b[0;34m,\u001b[0m \u001b[0;34m'rb'\u001b[0m\u001b[0;34m)\u001b[0m\u001b[0;34m\u001b[0m\u001b[0m\n\u001b[0m\u001b[1;32m    857\u001b[0m \u001b[0;34m\u001b[0m\u001b[0m\n\u001b[1;32m    858\u001b[0m     \u001b[0;32mif\u001b[0m \u001b[0mconfig\u001b[0m\u001b[0;34m.\u001b[0m\u001b[0mdebugging\u001b[0m\u001b[0;34m:\u001b[0m\u001b[0;34m\u001b[0m\u001b[0m\n",
      "\u001b[0;31mKeyboardInterrupt\u001b[0m: "
     ]
    }
   ],
   "source": [
    "# test(testLoader,model,1)"
   ]
  },
  {
   "cell_type": "code",
   "execution_count": 25,
   "metadata": {},
   "outputs": [
    {
     "name": "stderr",
     "output_type": "stream",
     "text": [
      "[0/223]\t0.597227\t0.597227\t3.747858524\t3.747858524)\t0.000000000\t0.000000000\n",
      "[1/223]\t1.059858\t0.828542\t0.083802566\t1.915830545)\t1.000000000\t0.500000000\n",
      "[2/223]\t0.806103\t0.821062\t4.221531868\t2.684397653)\t0.000000000\t0.333333333\n",
      "[3/223]\t0.828717\t0.822976\t5.133491039\t3.296670999)\t0.000000000\t0.250000000\n",
      "[4/223]\t0.730241\t0.804429\t0.036272824\t2.644591364)\t1.000000000\t0.400000000\n",
      "[5/223]\t1.621907\t0.940675\t2.967804432\t2.698460209)\t0.000000000\t0.333333333\n",
      "[6/223]\t1.383396\t1.003921\t2.734069586\t2.703547263)\t0.000000000\t0.285714286\n",
      "[7/223]\t3.866378\t1.361728\t0.061092377\t2.373240402)\t1.000000000\t0.375000000\n"
     ]
    },
    {
     "ename": "KeyboardInterrupt",
     "evalue": "",
     "output_type": "error",
     "traceback": [
      "\u001b[0;31m---------------------------------------------------------------------------\u001b[0m",
      "\u001b[0;31mKeyboardInterrupt\u001b[0m                         Traceback (most recent call last)",
      "\u001b[0;32m<ipython-input-25-976e3df2ea1c>\u001b[0m in \u001b[0;36m<module>\u001b[0;34m\u001b[0m\n\u001b[0;32m----> 1\u001b[0;31m \u001b[0mvalidate\u001b[0m\u001b[0;34m(\u001b[0m\u001b[0mvalLoader\u001b[0m\u001b[0;34m,\u001b[0m\u001b[0mmodel\u001b[0m\u001b[0;34m,\u001b[0m\u001b[0mcriterion\u001b[0m\u001b[0;34m)\u001b[0m\u001b[0;34m\u001b[0m\u001b[0m\n\u001b[0m",
      "\u001b[0;32m<ipython-input-23-e9731faa25cd>\u001b[0m in \u001b[0;36mvalidate\u001b[0;34m(val_loader, model, criterion)\u001b[0m\n\u001b[1;32m      9\u001b[0m     \u001b[0;32mwith\u001b[0m \u001b[0mtorch\u001b[0m\u001b[0;34m.\u001b[0m\u001b[0mno_grad\u001b[0m\u001b[0;34m(\u001b[0m\u001b[0;34m)\u001b[0m\u001b[0;34m:\u001b[0m\u001b[0;34m\u001b[0m\u001b[0m\n\u001b[1;32m     10\u001b[0m         \u001b[0mend\u001b[0m \u001b[0;34m=\u001b[0m \u001b[0mtime\u001b[0m\u001b[0;34m.\u001b[0m\u001b[0mtime\u001b[0m\u001b[0;34m(\u001b[0m\u001b[0;34m)\u001b[0m\u001b[0;34m\u001b[0m\u001b[0m\n\u001b[0;32m---> 11\u001b[0;31m         \u001b[0;32mfor\u001b[0m \u001b[0mi\u001b[0m\u001b[0;34m,\u001b[0m \u001b[0;34m(\u001b[0m\u001b[0mbatch\u001b[0m\u001b[0;34m,\u001b[0m \u001b[0mbag_label\u001b[0m\u001b[0;34m,\u001b[0m\u001b[0m_\u001b[0m\u001b[0;34m)\u001b[0m \u001b[0;32min\u001b[0m \u001b[0menumerate\u001b[0m\u001b[0;34m(\u001b[0m\u001b[0mval_loader\u001b[0m\u001b[0;34m)\u001b[0m\u001b[0;34m:\u001b[0m\u001b[0;34m\u001b[0m\u001b[0m\n\u001b[0m\u001b[1;32m     12\u001b[0m             \u001b[0minput\u001b[0m\u001b[0;34m=\u001b[0m \u001b[0mbatch\u001b[0m\u001b[0;34m[\u001b[0m\u001b[0;36m0\u001b[0m\u001b[0;34m]\u001b[0m\u001b[0;34m.\u001b[0m\u001b[0mto\u001b[0m\u001b[0;34m(\u001b[0m\u001b[0mdevice\u001b[0m\u001b[0;34m)\u001b[0m\u001b[0;34m\u001b[0m\u001b[0m\n\u001b[1;32m     13\u001b[0m             \u001b[0mtarget\u001b[0m \u001b[0;34m=\u001b[0m \u001b[0mbag_label\u001b[0m\u001b[0;34m[\u001b[0m\u001b[0;36m0\u001b[0m\u001b[0;34m]\u001b[0m\u001b[0;34m.\u001b[0m\u001b[0mto\u001b[0m\u001b[0;34m(\u001b[0m\u001b[0mdevice\u001b[0m\u001b[0;34m)\u001b[0m\u001b[0;34m\u001b[0m\u001b[0m\n",
      "\u001b[0;32m~/py3Env/lib/python3.5/site-packages/torch/utils/data/dataloader.py\u001b[0m in \u001b[0;36m__next__\u001b[0;34m(self)\u001b[0m\n\u001b[1;32m    312\u001b[0m         \u001b[0;32mif\u001b[0m \u001b[0mself\u001b[0m\u001b[0;34m.\u001b[0m\u001b[0mnum_workers\u001b[0m \u001b[0;34m==\u001b[0m \u001b[0;36m0\u001b[0m\u001b[0;34m:\u001b[0m  \u001b[0;31m# same-process loading\u001b[0m\u001b[0;34m\u001b[0m\u001b[0m\n\u001b[1;32m    313\u001b[0m             \u001b[0mindices\u001b[0m \u001b[0;34m=\u001b[0m \u001b[0mnext\u001b[0m\u001b[0;34m(\u001b[0m\u001b[0mself\u001b[0m\u001b[0;34m.\u001b[0m\u001b[0msample_iter\u001b[0m\u001b[0;34m)\u001b[0m  \u001b[0;31m# may raise StopIteration\u001b[0m\u001b[0;34m\u001b[0m\u001b[0m\n\u001b[0;32m--> 314\u001b[0;31m             \u001b[0mbatch\u001b[0m \u001b[0;34m=\u001b[0m \u001b[0mself\u001b[0m\u001b[0;34m.\u001b[0m\u001b[0mcollate_fn\u001b[0m\u001b[0;34m(\u001b[0m\u001b[0;34m[\u001b[0m\u001b[0mself\u001b[0m\u001b[0;34m.\u001b[0m\u001b[0mdataset\u001b[0m\u001b[0;34m[\u001b[0m\u001b[0mi\u001b[0m\u001b[0;34m]\u001b[0m \u001b[0;32mfor\u001b[0m \u001b[0mi\u001b[0m \u001b[0;32min\u001b[0m \u001b[0mindices\u001b[0m\u001b[0;34m]\u001b[0m\u001b[0;34m)\u001b[0m\u001b[0;34m\u001b[0m\u001b[0m\n\u001b[0m\u001b[1;32m    315\u001b[0m             \u001b[0;32mif\u001b[0m \u001b[0mself\u001b[0m\u001b[0;34m.\u001b[0m\u001b[0mpin_memory\u001b[0m\u001b[0;34m:\u001b[0m\u001b[0;34m\u001b[0m\u001b[0m\n\u001b[1;32m    316\u001b[0m                 \u001b[0mbatch\u001b[0m \u001b[0;34m=\u001b[0m \u001b[0mpin_memory_batch\u001b[0m\u001b[0;34m(\u001b[0m\u001b[0mbatch\u001b[0m\u001b[0;34m)\u001b[0m\u001b[0;34m\u001b[0m\u001b[0m\n",
      "\u001b[0;32m~/py3Env/lib/python3.5/site-packages/torch/utils/data/dataloader.py\u001b[0m in \u001b[0;36m<listcomp>\u001b[0;34m(.0)\u001b[0m\n\u001b[1;32m    312\u001b[0m         \u001b[0;32mif\u001b[0m \u001b[0mself\u001b[0m\u001b[0;34m.\u001b[0m\u001b[0mnum_workers\u001b[0m \u001b[0;34m==\u001b[0m \u001b[0;36m0\u001b[0m\u001b[0;34m:\u001b[0m  \u001b[0;31m# same-process loading\u001b[0m\u001b[0;34m\u001b[0m\u001b[0m\n\u001b[1;32m    313\u001b[0m             \u001b[0mindices\u001b[0m \u001b[0;34m=\u001b[0m \u001b[0mnext\u001b[0m\u001b[0;34m(\u001b[0m\u001b[0mself\u001b[0m\u001b[0;34m.\u001b[0m\u001b[0msample_iter\u001b[0m\u001b[0;34m)\u001b[0m  \u001b[0;31m# may raise StopIteration\u001b[0m\u001b[0;34m\u001b[0m\u001b[0m\n\u001b[0;32m--> 314\u001b[0;31m             \u001b[0mbatch\u001b[0m \u001b[0;34m=\u001b[0m \u001b[0mself\u001b[0m\u001b[0;34m.\u001b[0m\u001b[0mcollate_fn\u001b[0m\u001b[0;34m(\u001b[0m\u001b[0;34m[\u001b[0m\u001b[0mself\u001b[0m\u001b[0;34m.\u001b[0m\u001b[0mdataset\u001b[0m\u001b[0;34m[\u001b[0m\u001b[0mi\u001b[0m\u001b[0;34m]\u001b[0m \u001b[0;32mfor\u001b[0m \u001b[0mi\u001b[0m \u001b[0;32min\u001b[0m \u001b[0mindices\u001b[0m\u001b[0;34m]\u001b[0m\u001b[0;34m)\u001b[0m\u001b[0;34m\u001b[0m\u001b[0m\n\u001b[0m\u001b[1;32m    315\u001b[0m             \u001b[0;32mif\u001b[0m \u001b[0mself\u001b[0m\u001b[0;34m.\u001b[0m\u001b[0mpin_memory\u001b[0m\u001b[0;34m:\u001b[0m\u001b[0;34m\u001b[0m\u001b[0m\n\u001b[1;32m    316\u001b[0m                 \u001b[0mbatch\u001b[0m \u001b[0;34m=\u001b[0m \u001b[0mpin_memory_batch\u001b[0m\u001b[0;34m(\u001b[0m\u001b[0mbatch\u001b[0m\u001b[0;34m)\u001b[0m\u001b[0;34m\u001b[0m\u001b[0m\n",
      "\u001b[0;32m~/DetectionofBreastCancerUsingDL/MIL/customDataset.py\u001b[0m in \u001b[0;36m__getitem__\u001b[0;34m(self, i)\u001b[0m\n\u001b[1;32m    124\u001b[0m \u001b[0;34m\u001b[0m\u001b[0m\n\u001b[1;32m    125\u001b[0m     \u001b[0;32mdef\u001b[0m \u001b[0m__getitem__\u001b[0m\u001b[0;34m(\u001b[0m\u001b[0mself\u001b[0m\u001b[0;34m,\u001b[0m \u001b[0mi\u001b[0m\u001b[0;34m)\u001b[0m\u001b[0;34m:\u001b[0m\u001b[0;34m\u001b[0m\u001b[0m\n\u001b[0;32m--> 126\u001b[0;31m         \u001b[0;32mreturn\u001b[0m \u001b[0mself\u001b[0m\u001b[0;34m.\u001b[0m\u001b[0mfull_ds\u001b[0m\u001b[0;34m[\u001b[0m\u001b[0mi\u001b[0m\u001b[0;34m+\u001b[0m\u001b[0mself\u001b[0m\u001b[0;34m.\u001b[0m\u001b[0moffset\u001b[0m\u001b[0;34m]\u001b[0m\u001b[0;34m\u001b[0m\u001b[0m\n\u001b[0m\u001b[1;32m    127\u001b[0m \u001b[0;34m\u001b[0m\u001b[0m\n\u001b[1;32m    128\u001b[0m \u001b[0;34m\u001b[0m\u001b[0m\n",
      "\u001b[0;32m~/DetectionofBreastCancerUsingDL/MIL/customDataset.py\u001b[0m in \u001b[0;36m__getitem__\u001b[0;34m(self, index)\u001b[0m\n\u001b[1;32m     71\u001b[0m \u001b[0;34m\u001b[0m\u001b[0m\n\u001b[1;32m     72\u001b[0m         \u001b[0mimg\u001b[0m\u001b[0;34m=\u001b[0m \u001b[0mDCM\u001b[0m\u001b[0;34m.\u001b[0m\u001b[0mread_file\u001b[0m\u001b[0;34m(\u001b[0m\u001b[0mimage_path\u001b[0m\u001b[0;34m)\u001b[0m\u001b[0;34m.\u001b[0m\u001b[0mpixel_array\u001b[0m\u001b[0;34m.\u001b[0m\u001b[0mastype\u001b[0m\u001b[0;34m(\u001b[0m\u001b[0mfloat\u001b[0m\u001b[0;34m)\u001b[0m\u001b[0;34m\u001b[0m\u001b[0m\n\u001b[0;32m---> 73\u001b[0;31m         \u001b[0mmask\u001b[0m \u001b[0;34m=\u001b[0m \u001b[0mDCM\u001b[0m\u001b[0;34m.\u001b[0m\u001b[0mread_file\u001b[0m\u001b[0;34m(\u001b[0m\u001b[0mmask_path\u001b[0m\u001b[0;34m)\u001b[0m\u001b[0;34m.\u001b[0m\u001b[0mpixel_array\u001b[0m\u001b[0;34m.\u001b[0m\u001b[0mastype\u001b[0m\u001b[0;34m(\u001b[0m\u001b[0mfloat\u001b[0m\u001b[0;34m)\u001b[0m\u001b[0;34m\u001b[0m\u001b[0m\n\u001b[0m\u001b[1;32m     74\u001b[0m \u001b[0;34m\u001b[0m\u001b[0m\n\u001b[1;32m     75\u001b[0m         \u001b[0mimg\u001b[0m \u001b[0;34m=\u001b[0m \u001b[0;34m(\u001b[0m\u001b[0mnp\u001b[0m\u001b[0;34m.\u001b[0m\u001b[0mmaximum\u001b[0m\u001b[0;34m(\u001b[0m\u001b[0mimg\u001b[0m\u001b[0;34m,\u001b[0m\u001b[0;36m0\u001b[0m\u001b[0;34m)\u001b[0m\u001b[0;34m/\u001b[0m \u001b[0mimg\u001b[0m\u001b[0;34m.\u001b[0m\u001b[0mmax\u001b[0m\u001b[0;34m(\u001b[0m\u001b[0;34m)\u001b[0m\u001b[0;34m)\u001b[0m \u001b[0;34m*\u001b[0m \u001b[0;36m255\u001b[0m\u001b[0;34m\u001b[0m\u001b[0m\n",
      "\u001b[0;32m~/py3Env/lib/python3.5/site-packages/pydicom/filereader.py\u001b[0m in \u001b[0;36mdcmread\u001b[0;34m(fp, defer_size, stop_before_pixels, force, specific_tags)\u001b[0m\n\u001b[1;32m    878\u001b[0m     \u001b[0;32mtry\u001b[0m\u001b[0;34m:\u001b[0m\u001b[0;34m\u001b[0m\u001b[0m\n\u001b[1;32m    879\u001b[0m         dataset = read_partial(fp, stop_when, defer_size=defer_size,\n\u001b[0;32m--> 880\u001b[0;31m                                force=force, specific_tags=specific_tags)\n\u001b[0m\u001b[1;32m    881\u001b[0m     \u001b[0;32mfinally\u001b[0m\u001b[0;34m:\u001b[0m\u001b[0;34m\u001b[0m\u001b[0m\n\u001b[1;32m    882\u001b[0m         \u001b[0;32mif\u001b[0m \u001b[0;32mnot\u001b[0m \u001b[0mcaller_owns_file\u001b[0m\u001b[0;34m:\u001b[0m\u001b[0;34m\u001b[0m\u001b[0m\n",
      "\u001b[0;32m~/py3Env/lib/python3.5/site-packages/pydicom/filereader.py\u001b[0m in \u001b[0;36mread_partial\u001b[0;34m(fileobj, stop_when, defer_size, force, specific_tags)\u001b[0m\n\u001b[1;32m    756\u001b[0m         dataset = read_dataset(fileobj, is_implicit_VR, is_little_endian,\n\u001b[1;32m    757\u001b[0m                                \u001b[0mstop_when\u001b[0m\u001b[0;34m=\u001b[0m\u001b[0mstop_when\u001b[0m\u001b[0;34m,\u001b[0m \u001b[0mdefer_size\u001b[0m\u001b[0;34m=\u001b[0m\u001b[0mdefer_size\u001b[0m\u001b[0;34m,\u001b[0m\u001b[0;34m\u001b[0m\u001b[0m\n\u001b[0;32m--> 758\u001b[0;31m                                specific_tags=specific_tags)\n\u001b[0m\u001b[1;32m    759\u001b[0m     \u001b[0;32mexcept\u001b[0m \u001b[0mEOFError\u001b[0m\u001b[0;34m:\u001b[0m\u001b[0;34m\u001b[0m\u001b[0m\n\u001b[1;32m    760\u001b[0m         \u001b[0;32mpass\u001b[0m  \u001b[0;31m# error already logged in read_dataset\u001b[0m\u001b[0;34m\u001b[0m\u001b[0m\n",
      "\u001b[0;32m~/py3Env/lib/python3.5/site-packages/pydicom/filereader.py\u001b[0m in \u001b[0;36mread_dataset\u001b[0;34m(fp, is_implicit_VR, is_little_endian, bytelength, stop_when, defer_size, parent_encoding, specific_tags)\u001b[0m\n\u001b[1;32m    392\u001b[0m     \u001b[0;32mtry\u001b[0m\u001b[0;34m:\u001b[0m\u001b[0;34m\u001b[0m\u001b[0m\n\u001b[1;32m    393\u001b[0m         \u001b[0;32mwhile\u001b[0m \u001b[0;34m(\u001b[0m\u001b[0mbytelength\u001b[0m \u001b[0;32mis\u001b[0m \u001b[0;32mNone\u001b[0m\u001b[0;34m)\u001b[0m \u001b[0;32mor\u001b[0m \u001b[0;34m(\u001b[0m\u001b[0mfp\u001b[0m\u001b[0;34m.\u001b[0m\u001b[0mtell\u001b[0m\u001b[0;34m(\u001b[0m\u001b[0;34m)\u001b[0m \u001b[0;34m-\u001b[0m \u001b[0mfpStart\u001b[0m \u001b[0;34m<\u001b[0m \u001b[0mbytelength\u001b[0m\u001b[0;34m)\u001b[0m\u001b[0;34m:\u001b[0m\u001b[0;34m\u001b[0m\u001b[0m\n\u001b[0;32m--> 394\u001b[0;31m             \u001b[0mraw_data_element\u001b[0m \u001b[0;34m=\u001b[0m \u001b[0mnext\u001b[0m\u001b[0;34m(\u001b[0m\u001b[0mde_gen\u001b[0m\u001b[0;34m)\u001b[0m\u001b[0;34m\u001b[0m\u001b[0m\n\u001b[0m\u001b[1;32m    395\u001b[0m             \u001b[0;31m# Read data elements. Stop on some errors, but return what was read\u001b[0m\u001b[0;34m\u001b[0m\u001b[0;34m\u001b[0m\u001b[0m\n\u001b[1;32m    396\u001b[0m             \u001b[0mtag\u001b[0m \u001b[0;34m=\u001b[0m \u001b[0mraw_data_element\u001b[0m\u001b[0;34m.\u001b[0m\u001b[0mtag\u001b[0m\u001b[0;34m\u001b[0m\u001b[0m\n",
      "\u001b[0;32m~/py3Env/lib/python3.5/site-packages/pydicom/filereader.py\u001b[0m in \u001b[0;36mdata_element_generator\u001b[0;34m(fp, is_implicit_VR, is_little_endian, stop_when, defer_size, encoding, specific_tags)\u001b[0m\n\u001b[1;32m    273\u001b[0m                 \u001b[0mfp\u001b[0m\u001b[0;34m.\u001b[0m\u001b[0mseek\u001b[0m\u001b[0;34m(\u001b[0m\u001b[0mfp_tell\u001b[0m\u001b[0;34m(\u001b[0m\u001b[0;34m)\u001b[0m \u001b[0;34m+\u001b[0m \u001b[0mlength\u001b[0m\u001b[0;34m)\u001b[0m\u001b[0;34m\u001b[0m\u001b[0m\n\u001b[1;32m    274\u001b[0m             \u001b[0;32melse\u001b[0m\u001b[0;34m:\u001b[0m\u001b[0;34m\u001b[0m\u001b[0m\n\u001b[0;32m--> 275\u001b[0;31m                 \u001b[0mvalue\u001b[0m \u001b[0;34m=\u001b[0m \u001b[0mfp_read\u001b[0m\u001b[0;34m(\u001b[0m\u001b[0mlength\u001b[0m\u001b[0;34m)\u001b[0m\u001b[0;34m\u001b[0m\u001b[0m\n\u001b[0m\u001b[1;32m    276\u001b[0m                 \u001b[0;32mif\u001b[0m \u001b[0mdebugging\u001b[0m\u001b[0;34m:\u001b[0m\u001b[0;34m\u001b[0m\u001b[0m\n\u001b[1;32m    277\u001b[0m                     \u001b[0mdotdot\u001b[0m \u001b[0;34m=\u001b[0m \u001b[0;34m\"   \"\u001b[0m\u001b[0;34m\u001b[0m\u001b[0m\n",
      "\u001b[0;31mKeyboardInterrupt\u001b[0m: "
     ]
    }
   ],
   "source": [
    "# validate(valLoader,model,criterion)"
   ]
  },
  {
   "cell_type": "code",
   "execution_count": 26,
   "metadata": {},
   "outputs": [
    {
     "name": "stderr",
     "output_type": "stream",
     "text": [
      "[1][0/1998]\t0.741024\t 0.741024\t3.090146780\t3.090146780\t0.000000000\t0.000000000\t\n",
      "[1][1/1998]\t0.794239\t 0.767632\t1.414602757\t2.252374768\t1.000000000\t0.500000000\t\n",
      "[1][2/1998]\t0.668290\t 0.734518\t2.286785603\t2.263845046\t0.000000000\t0.333333333\t\n",
      "[1][3/1998]\t2.363228\t 1.141695\t-0.000000000\t1.697883785\t1.000000000\t0.500000000\t\n",
      "[1][4/1998]\t1.622602\t 1.237877\t-0.000000000\t1.358307028\t0.000000000\t0.400000000\t\n",
      "[1][5/1998]\t3.130916\t 1.553383\t-0.000000000\t1.131922523\t1.000000000\t0.500000000\t\n",
      "[1][6/1998]\t1.738377\t 1.579811\t-0.000000000\t0.970219306\t0.000000000\t0.428571429\t\n",
      "[1][7/1998]\t2.739412\t 1.724761\t-0.000000000\t0.848941892\t0.000000000\t0.375000000\t\n"
     ]
    },
    {
     "ename": "KeyboardInterrupt",
     "evalue": "",
     "output_type": "error",
     "traceback": [
      "\u001b[0;31m---------------------------------------------------------------------------\u001b[0m",
      "\u001b[0;31mKeyboardInterrupt\u001b[0m                         Traceback (most recent call last)",
      "\u001b[0;32m<ipython-input-26-639cceb7baf4>\u001b[0m in \u001b[0;36m<module>\u001b[0;34m\u001b[0m\n\u001b[0;32m----> 1\u001b[0;31m \u001b[0mtrain\u001b[0m\u001b[0;34m(\u001b[0m\u001b[0mtrainLoader\u001b[0m\u001b[0;34m,\u001b[0m\u001b[0mmodel\u001b[0m\u001b[0;34m,\u001b[0m\u001b[0mcriterion\u001b[0m\u001b[0;34m,\u001b[0m\u001b[0moptimizer\u001b[0m\u001b[0;34m,\u001b[0m\u001b[0;36m1\u001b[0m\u001b[0;34m)\u001b[0m\u001b[0;34m\u001b[0m\u001b[0m\n\u001b[0m",
      "\u001b[0;32m<ipython-input-22-98b9350e44cc>\u001b[0m in \u001b[0;36mtrain\u001b[0;34m(train_loader, model, criterion, optimizer, epoch)\u001b[0m\n\u001b[1;32m      8\u001b[0m \u001b[0;34m\u001b[0m\u001b[0m\n\u001b[1;32m      9\u001b[0m     \u001b[0mend\u001b[0m \u001b[0;34m=\u001b[0m \u001b[0mtime\u001b[0m\u001b[0;34m.\u001b[0m\u001b[0mtime\u001b[0m\u001b[0;34m(\u001b[0m\u001b[0;34m)\u001b[0m\u001b[0;34m\u001b[0m\u001b[0m\n\u001b[0;32m---> 10\u001b[0;31m     \u001b[0;32mfor\u001b[0m \u001b[0mi\u001b[0m\u001b[0;34m,\u001b[0m\u001b[0;34m(\u001b[0m\u001b[0mbatch\u001b[0m\u001b[0;34m,\u001b[0m\u001b[0mbag_label\u001b[0m\u001b[0;34m,\u001b[0m\u001b[0m_\u001b[0m\u001b[0;34m)\u001b[0m \u001b[0;32min\u001b[0m \u001b[0menumerate\u001b[0m\u001b[0;34m(\u001b[0m\u001b[0mtrain_loader\u001b[0m\u001b[0;34m)\u001b[0m\u001b[0;34m:\u001b[0m\u001b[0;34m\u001b[0m\u001b[0m\n\u001b[0m\u001b[1;32m     11\u001b[0m         \u001b[0mdata_time\u001b[0m\u001b[0;34m.\u001b[0m\u001b[0mupdate\u001b[0m\u001b[0;34m(\u001b[0m\u001b[0mtime\u001b[0m\u001b[0;34m.\u001b[0m\u001b[0mtime\u001b[0m\u001b[0;34m(\u001b[0m\u001b[0;34m)\u001b[0m\u001b[0;34m-\u001b[0m\u001b[0mend\u001b[0m\u001b[0;34m)\u001b[0m\u001b[0;34m\u001b[0m\u001b[0m\n\u001b[1;32m     12\u001b[0m         \u001b[0mimages\u001b[0m \u001b[0;34m=\u001b[0m \u001b[0mbatch\u001b[0m\u001b[0;34m[\u001b[0m\u001b[0;36m0\u001b[0m\u001b[0;34m]\u001b[0m\u001b[0;34m.\u001b[0m\u001b[0mto\u001b[0m\u001b[0;34m(\u001b[0m\u001b[0mdevice\u001b[0m\u001b[0;34m)\u001b[0m\u001b[0;34m\u001b[0m\u001b[0m\n",
      "\u001b[0;32m~/py3Env/lib/python3.5/site-packages/torch/utils/data/dataloader.py\u001b[0m in \u001b[0;36m__next__\u001b[0;34m(self)\u001b[0m\n\u001b[1;32m    312\u001b[0m         \u001b[0;32mif\u001b[0m \u001b[0mself\u001b[0m\u001b[0;34m.\u001b[0m\u001b[0mnum_workers\u001b[0m \u001b[0;34m==\u001b[0m \u001b[0;36m0\u001b[0m\u001b[0;34m:\u001b[0m  \u001b[0;31m# same-process loading\u001b[0m\u001b[0;34m\u001b[0m\u001b[0m\n\u001b[1;32m    313\u001b[0m             \u001b[0mindices\u001b[0m \u001b[0;34m=\u001b[0m \u001b[0mnext\u001b[0m\u001b[0;34m(\u001b[0m\u001b[0mself\u001b[0m\u001b[0;34m.\u001b[0m\u001b[0msample_iter\u001b[0m\u001b[0;34m)\u001b[0m  \u001b[0;31m# may raise StopIteration\u001b[0m\u001b[0;34m\u001b[0m\u001b[0m\n\u001b[0;32m--> 314\u001b[0;31m             \u001b[0mbatch\u001b[0m \u001b[0;34m=\u001b[0m \u001b[0mself\u001b[0m\u001b[0;34m.\u001b[0m\u001b[0mcollate_fn\u001b[0m\u001b[0;34m(\u001b[0m\u001b[0;34m[\u001b[0m\u001b[0mself\u001b[0m\u001b[0;34m.\u001b[0m\u001b[0mdataset\u001b[0m\u001b[0;34m[\u001b[0m\u001b[0mi\u001b[0m\u001b[0;34m]\u001b[0m \u001b[0;32mfor\u001b[0m \u001b[0mi\u001b[0m \u001b[0;32min\u001b[0m \u001b[0mindices\u001b[0m\u001b[0;34m]\u001b[0m\u001b[0;34m)\u001b[0m\u001b[0;34m\u001b[0m\u001b[0m\n\u001b[0m\u001b[1;32m    315\u001b[0m             \u001b[0;32mif\u001b[0m \u001b[0mself\u001b[0m\u001b[0;34m.\u001b[0m\u001b[0mpin_memory\u001b[0m\u001b[0;34m:\u001b[0m\u001b[0;34m\u001b[0m\u001b[0m\n\u001b[1;32m    316\u001b[0m                 \u001b[0mbatch\u001b[0m \u001b[0;34m=\u001b[0m \u001b[0mpin_memory_batch\u001b[0m\u001b[0;34m(\u001b[0m\u001b[0mbatch\u001b[0m\u001b[0;34m)\u001b[0m\u001b[0;34m\u001b[0m\u001b[0m\n",
      "\u001b[0;32m~/py3Env/lib/python3.5/site-packages/torch/utils/data/dataloader.py\u001b[0m in \u001b[0;36m<listcomp>\u001b[0;34m(.0)\u001b[0m\n\u001b[1;32m    312\u001b[0m         \u001b[0;32mif\u001b[0m \u001b[0mself\u001b[0m\u001b[0;34m.\u001b[0m\u001b[0mnum_workers\u001b[0m \u001b[0;34m==\u001b[0m \u001b[0;36m0\u001b[0m\u001b[0;34m:\u001b[0m  \u001b[0;31m# same-process loading\u001b[0m\u001b[0;34m\u001b[0m\u001b[0m\n\u001b[1;32m    313\u001b[0m             \u001b[0mindices\u001b[0m \u001b[0;34m=\u001b[0m \u001b[0mnext\u001b[0m\u001b[0;34m(\u001b[0m\u001b[0mself\u001b[0m\u001b[0;34m.\u001b[0m\u001b[0msample_iter\u001b[0m\u001b[0;34m)\u001b[0m  \u001b[0;31m# may raise StopIteration\u001b[0m\u001b[0;34m\u001b[0m\u001b[0m\n\u001b[0;32m--> 314\u001b[0;31m             \u001b[0mbatch\u001b[0m \u001b[0;34m=\u001b[0m \u001b[0mself\u001b[0m\u001b[0;34m.\u001b[0m\u001b[0mcollate_fn\u001b[0m\u001b[0;34m(\u001b[0m\u001b[0;34m[\u001b[0m\u001b[0mself\u001b[0m\u001b[0;34m.\u001b[0m\u001b[0mdataset\u001b[0m\u001b[0;34m[\u001b[0m\u001b[0mi\u001b[0m\u001b[0;34m]\u001b[0m \u001b[0;32mfor\u001b[0m \u001b[0mi\u001b[0m \u001b[0;32min\u001b[0m \u001b[0mindices\u001b[0m\u001b[0;34m]\u001b[0m\u001b[0;34m)\u001b[0m\u001b[0;34m\u001b[0m\u001b[0m\n\u001b[0m\u001b[1;32m    315\u001b[0m             \u001b[0;32mif\u001b[0m \u001b[0mself\u001b[0m\u001b[0;34m.\u001b[0m\u001b[0mpin_memory\u001b[0m\u001b[0;34m:\u001b[0m\u001b[0;34m\u001b[0m\u001b[0m\n\u001b[1;32m    316\u001b[0m                 \u001b[0mbatch\u001b[0m \u001b[0;34m=\u001b[0m \u001b[0mpin_memory_batch\u001b[0m\u001b[0;34m(\u001b[0m\u001b[0mbatch\u001b[0m\u001b[0;34m)\u001b[0m\u001b[0;34m\u001b[0m\u001b[0m\n",
      "\u001b[0;32m~/DetectionofBreastCancerUsingDL/MIL/customDataset.py\u001b[0m in \u001b[0;36m__getitem__\u001b[0;34m(self, i)\u001b[0m\n\u001b[1;32m    124\u001b[0m \u001b[0;34m\u001b[0m\u001b[0m\n\u001b[1;32m    125\u001b[0m     \u001b[0;32mdef\u001b[0m \u001b[0m__getitem__\u001b[0m\u001b[0;34m(\u001b[0m\u001b[0mself\u001b[0m\u001b[0;34m,\u001b[0m \u001b[0mi\u001b[0m\u001b[0;34m)\u001b[0m\u001b[0;34m:\u001b[0m\u001b[0;34m\u001b[0m\u001b[0m\n\u001b[0;32m--> 126\u001b[0;31m         \u001b[0;32mreturn\u001b[0m \u001b[0mself\u001b[0m\u001b[0;34m.\u001b[0m\u001b[0mfull_ds\u001b[0m\u001b[0;34m[\u001b[0m\u001b[0mi\u001b[0m\u001b[0;34m+\u001b[0m\u001b[0mself\u001b[0m\u001b[0;34m.\u001b[0m\u001b[0moffset\u001b[0m\u001b[0;34m]\u001b[0m\u001b[0;34m\u001b[0m\u001b[0m\n\u001b[0m\u001b[1;32m    127\u001b[0m \u001b[0;34m\u001b[0m\u001b[0m\n\u001b[1;32m    128\u001b[0m \u001b[0;34m\u001b[0m\u001b[0m\n",
      "\u001b[0;32m~/DetectionofBreastCancerUsingDL/MIL/customDataset.py\u001b[0m in \u001b[0;36m__getitem__\u001b[0;34m(self, index)\u001b[0m\n\u001b[1;32m     79\u001b[0m         \u001b[0mimgPIL\u001b[0m \u001b[0;34m=\u001b[0m \u001b[0mImage\u001b[0m\u001b[0;34m.\u001b[0m\u001b[0mfromarray\u001b[0m\u001b[0;34m(\u001b[0m\u001b[0mimg\u001b[0m\u001b[0;34m)\u001b[0m\u001b[0;34m\u001b[0m\u001b[0m\n\u001b[1;32m     80\u001b[0m         \u001b[0;32mif\u001b[0m\u001b[0;34m(\u001b[0m\u001b[0mself\u001b[0m\u001b[0;34m.\u001b[0m\u001b[0mdataAugmentation\u001b[0m \u001b[0;34m==\u001b[0m \u001b[0;32mTrue\u001b[0m\u001b[0;34m)\u001b[0m\u001b[0;34m:\u001b[0m\u001b[0;34m\u001b[0m\u001b[0m\n\u001b[0;32m---> 81\u001b[0;31m             \u001b[0mimgPIL\u001b[0m \u001b[0;34m=\u001b[0m \u001b[0mself\u001b[0m\u001b[0;34m.\u001b[0m\u001b[0mtransforms\u001b[0m\u001b[0;34m(\u001b[0m\u001b[0mimgPIL\u001b[0m\u001b[0;34m)\u001b[0m\u001b[0;34m\u001b[0m\u001b[0m\n\u001b[0m\u001b[1;32m     82\u001b[0m \u001b[0;34m\u001b[0m\u001b[0m\n\u001b[1;32m     83\u001b[0m         \u001b[0mimg\u001b[0m \u001b[0;34m=\u001b[0m \u001b[0mnp\u001b[0m\u001b[0;34m.\u001b[0m\u001b[0masarray\u001b[0m\u001b[0;34m(\u001b[0m\u001b[0mimgPIL\u001b[0m\u001b[0;34m)\u001b[0m\u001b[0;34m\u001b[0m\u001b[0m\n",
      "\u001b[0;32m~/py3Env/lib/python3.5/site-packages/torchvision/transforms/transforms.py\u001b[0m in \u001b[0;36m__call__\u001b[0;34m(self, img)\u001b[0m\n\u001b[1;32m     47\u001b[0m     \u001b[0;32mdef\u001b[0m \u001b[0m__call__\u001b[0m\u001b[0;34m(\u001b[0m\u001b[0mself\u001b[0m\u001b[0;34m,\u001b[0m \u001b[0mimg\u001b[0m\u001b[0;34m)\u001b[0m\u001b[0;34m:\u001b[0m\u001b[0;34m\u001b[0m\u001b[0m\n\u001b[1;32m     48\u001b[0m         \u001b[0;32mfor\u001b[0m \u001b[0mt\u001b[0m \u001b[0;32min\u001b[0m \u001b[0mself\u001b[0m\u001b[0;34m.\u001b[0m\u001b[0mtransforms\u001b[0m\u001b[0;34m:\u001b[0m\u001b[0;34m\u001b[0m\u001b[0m\n\u001b[0;32m---> 49\u001b[0;31m             \u001b[0mimg\u001b[0m \u001b[0;34m=\u001b[0m \u001b[0mt\u001b[0m\u001b[0;34m(\u001b[0m\u001b[0mimg\u001b[0m\u001b[0;34m)\u001b[0m\u001b[0;34m\u001b[0m\u001b[0m\n\u001b[0m\u001b[1;32m     50\u001b[0m         \u001b[0;32mreturn\u001b[0m \u001b[0mimg\u001b[0m\u001b[0;34m\u001b[0m\u001b[0m\n\u001b[1;32m     51\u001b[0m \u001b[0;34m\u001b[0m\u001b[0m\n",
      "\u001b[0;32m~/py3Env/lib/python3.5/site-packages/torchvision/transforms/transforms.py\u001b[0m in \u001b[0;36m__call__\u001b[0;34m(self, img)\u001b[0m\n\u001b[1;32m    820\u001b[0m         \u001b[0mangle\u001b[0m \u001b[0;34m=\u001b[0m \u001b[0mself\u001b[0m\u001b[0;34m.\u001b[0m\u001b[0mget_params\u001b[0m\u001b[0;34m(\u001b[0m\u001b[0mself\u001b[0m\u001b[0;34m.\u001b[0m\u001b[0mdegrees\u001b[0m\u001b[0;34m)\u001b[0m\u001b[0;34m\u001b[0m\u001b[0m\n\u001b[1;32m    821\u001b[0m \u001b[0;34m\u001b[0m\u001b[0m\n\u001b[0;32m--> 822\u001b[0;31m         \u001b[0;32mreturn\u001b[0m \u001b[0mF\u001b[0m\u001b[0;34m.\u001b[0m\u001b[0mrotate\u001b[0m\u001b[0;34m(\u001b[0m\u001b[0mimg\u001b[0m\u001b[0;34m,\u001b[0m \u001b[0mangle\u001b[0m\u001b[0;34m,\u001b[0m \u001b[0mself\u001b[0m\u001b[0;34m.\u001b[0m\u001b[0mresample\u001b[0m\u001b[0;34m,\u001b[0m \u001b[0mself\u001b[0m\u001b[0;34m.\u001b[0m\u001b[0mexpand\u001b[0m\u001b[0;34m,\u001b[0m \u001b[0mself\u001b[0m\u001b[0;34m.\u001b[0m\u001b[0mcenter\u001b[0m\u001b[0;34m)\u001b[0m\u001b[0;34m\u001b[0m\u001b[0m\n\u001b[0m\u001b[1;32m    823\u001b[0m \u001b[0;34m\u001b[0m\u001b[0m\n\u001b[1;32m    824\u001b[0m     \u001b[0;32mdef\u001b[0m \u001b[0m__repr__\u001b[0m\u001b[0;34m(\u001b[0m\u001b[0mself\u001b[0m\u001b[0;34m)\u001b[0m\u001b[0;34m:\u001b[0m\u001b[0;34m\u001b[0m\u001b[0m\n",
      "\u001b[0;32m~/py3Env/lib/python3.5/site-packages/torchvision/transforms/functional.py\u001b[0m in \u001b[0;36mrotate\u001b[0;34m(img, angle, resample, expand, center)\u001b[0m\n\u001b[1;32m    593\u001b[0m         \u001b[0;32mraise\u001b[0m \u001b[0mTypeError\u001b[0m\u001b[0;34m(\u001b[0m\u001b[0;34m'img should be PIL Image. Got {}'\u001b[0m\u001b[0;34m.\u001b[0m\u001b[0mformat\u001b[0m\u001b[0;34m(\u001b[0m\u001b[0mtype\u001b[0m\u001b[0;34m(\u001b[0m\u001b[0mimg\u001b[0m\u001b[0;34m)\u001b[0m\u001b[0;34m)\u001b[0m\u001b[0;34m)\u001b[0m\u001b[0;34m\u001b[0m\u001b[0m\n\u001b[1;32m    594\u001b[0m \u001b[0;34m\u001b[0m\u001b[0m\n\u001b[0;32m--> 595\u001b[0;31m     \u001b[0;32mreturn\u001b[0m \u001b[0mimg\u001b[0m\u001b[0;34m.\u001b[0m\u001b[0mrotate\u001b[0m\u001b[0;34m(\u001b[0m\u001b[0mangle\u001b[0m\u001b[0;34m,\u001b[0m \u001b[0mresample\u001b[0m\u001b[0;34m,\u001b[0m \u001b[0mexpand\u001b[0m\u001b[0;34m,\u001b[0m \u001b[0mcenter\u001b[0m\u001b[0;34m)\u001b[0m\u001b[0;34m\u001b[0m\u001b[0m\n\u001b[0m\u001b[1;32m    596\u001b[0m \u001b[0;34m\u001b[0m\u001b[0m\n\u001b[1;32m    597\u001b[0m \u001b[0;34m\u001b[0m\u001b[0m\n",
      "\u001b[0;32m~/py3Env/lib/python3.5/site-packages/PIL/Image.py\u001b[0m in \u001b[0;36mrotate\u001b[0;34m(self, angle, resample, expand, center, translate, fillcolor)\u001b[0m\n\u001b[1;32m   1888\u001b[0m             \u001b[0mw\u001b[0m\u001b[0;34m,\u001b[0m \u001b[0mh\u001b[0m \u001b[0;34m=\u001b[0m \u001b[0mnw\u001b[0m\u001b[0;34m,\u001b[0m \u001b[0mnh\u001b[0m\u001b[0;34m\u001b[0m\u001b[0m\n\u001b[1;32m   1889\u001b[0m \u001b[0;34m\u001b[0m\u001b[0m\n\u001b[0;32m-> 1890\u001b[0;31m         \u001b[0;32mreturn\u001b[0m \u001b[0mself\u001b[0m\u001b[0;34m.\u001b[0m\u001b[0mtransform\u001b[0m\u001b[0;34m(\u001b[0m\u001b[0;34m(\u001b[0m\u001b[0mw\u001b[0m\u001b[0;34m,\u001b[0m \u001b[0mh\u001b[0m\u001b[0;34m)\u001b[0m\u001b[0;34m,\u001b[0m \u001b[0mAFFINE\u001b[0m\u001b[0;34m,\u001b[0m \u001b[0mmatrix\u001b[0m\u001b[0;34m,\u001b[0m \u001b[0mresample\u001b[0m\u001b[0;34m,\u001b[0m \u001b[0mfillcolor\u001b[0m\u001b[0;34m=\u001b[0m\u001b[0mfillcolor\u001b[0m\u001b[0;34m)\u001b[0m\u001b[0;34m\u001b[0m\u001b[0m\n\u001b[0m\u001b[1;32m   1891\u001b[0m \u001b[0;34m\u001b[0m\u001b[0m\n\u001b[1;32m   1892\u001b[0m     \u001b[0;32mdef\u001b[0m \u001b[0msave\u001b[0m\u001b[0;34m(\u001b[0m\u001b[0mself\u001b[0m\u001b[0;34m,\u001b[0m \u001b[0mfp\u001b[0m\u001b[0;34m,\u001b[0m \u001b[0mformat\u001b[0m\u001b[0;34m=\u001b[0m\u001b[0;32mNone\u001b[0m\u001b[0;34m,\u001b[0m \u001b[0;34m**\u001b[0m\u001b[0mparams\u001b[0m\u001b[0;34m)\u001b[0m\u001b[0;34m:\u001b[0m\u001b[0;34m\u001b[0m\u001b[0m\n",
      "\u001b[0;32m~/py3Env/lib/python3.5/site-packages/PIL/Image.py\u001b[0m in \u001b[0;36mtransform\u001b[0;34m(self, size, method, data, resample, fill, fillcolor)\u001b[0m\n\u001b[1;32m   2186\u001b[0m         \u001b[0;32melse\u001b[0m\u001b[0;34m:\u001b[0m\u001b[0;34m\u001b[0m\u001b[0m\n\u001b[1;32m   2187\u001b[0m             im.__transformer((0, 0)+size, self, method, data,\n\u001b[0;32m-> 2188\u001b[0;31m                              resample, fillcolor is None)\n\u001b[0m\u001b[1;32m   2189\u001b[0m \u001b[0;34m\u001b[0m\u001b[0m\n\u001b[1;32m   2190\u001b[0m         \u001b[0;32mreturn\u001b[0m \u001b[0mim\u001b[0m\u001b[0;34m\u001b[0m\u001b[0m\n",
      "\u001b[0;32m~/py3Env/lib/python3.5/site-packages/PIL/Image.py\u001b[0m in \u001b[0;36m__transformer\u001b[0;34m(self, box, image, method, data, resample, fill)\u001b[0m\n\u001b[1;32m   2237\u001b[0m             \u001b[0mresample\u001b[0m \u001b[0;34m=\u001b[0m \u001b[0mNEAREST\u001b[0m\u001b[0;34m\u001b[0m\u001b[0m\n\u001b[1;32m   2238\u001b[0m \u001b[0;34m\u001b[0m\u001b[0m\n\u001b[0;32m-> 2239\u001b[0;31m         \u001b[0mself\u001b[0m\u001b[0;34m.\u001b[0m\u001b[0mim\u001b[0m\u001b[0;34m.\u001b[0m\u001b[0mtransform2\u001b[0m\u001b[0;34m(\u001b[0m\u001b[0mbox\u001b[0m\u001b[0;34m,\u001b[0m \u001b[0mimage\u001b[0m\u001b[0;34m.\u001b[0m\u001b[0mim\u001b[0m\u001b[0;34m,\u001b[0m \u001b[0mmethod\u001b[0m\u001b[0;34m,\u001b[0m \u001b[0mdata\u001b[0m\u001b[0;34m,\u001b[0m \u001b[0mresample\u001b[0m\u001b[0;34m,\u001b[0m \u001b[0mfill\u001b[0m\u001b[0;34m)\u001b[0m\u001b[0;34m\u001b[0m\u001b[0m\n\u001b[0m\u001b[1;32m   2240\u001b[0m \u001b[0;34m\u001b[0m\u001b[0m\n\u001b[1;32m   2241\u001b[0m     \u001b[0;32mdef\u001b[0m \u001b[0mtranspose\u001b[0m\u001b[0;34m(\u001b[0m\u001b[0mself\u001b[0m\u001b[0;34m,\u001b[0m \u001b[0mmethod\u001b[0m\u001b[0;34m)\u001b[0m\u001b[0;34m:\u001b[0m\u001b[0;34m\u001b[0m\u001b[0m\n",
      "\u001b[0;31mKeyboardInterrupt\u001b[0m: "
     ]
    }
   ],
   "source": [
    "# train(trainLoader,model,criterion,optimizer,1)"
   ]
  },
  {
   "cell_type": "code",
   "execution_count": null,
   "metadata": {},
   "outputs": [],
   "source": []
  },
  {
   "cell_type": "code",
   "execution_count": null,
   "metadata": {},
   "outputs": [],
   "source": []
  },
  {
   "cell_type": "code",
   "execution_count": null,
   "metadata": {},
   "outputs": [],
   "source": []
  },
  {
   "cell_type": "code",
   "execution_count": null,
   "metadata": {},
   "outputs": [],
   "source": []
  },
  {
   "cell_type": "code",
   "execution_count": null,
   "metadata": {},
   "outputs": [],
   "source": []
  },
  {
   "cell_type": "markdown",
   "metadata": {},
   "source": [
    "# Training Loop"
   ]
  },
  {
   "cell_type": "code",
   "execution_count": null,
   "metadata": {},
   "outputs": [],
   "source": [
    "is_best=0\n",
    "\n",
    "for epoch in range(numEpochs):\n",
    "    \n",
    "    adjust_learning_rate(optimizer,epoch+1,lr)\n",
    "    \n",
    "    train(trainLoader,model,criterion,optimizer,epoch+1)\n",
    "    \n",
    "    pause(strg='training pause')\n",
    "    \n",
    "    acc = validate(valLoader,model,criterion)\n",
    "    \n",
    "    is_best = acc > best\n",
    "    \n",
    "    best_acc = max(acc,best_acc)\n",
    "    \n",
    "    save_checkpoint({\n",
    "        'epoch':epoch+1,\n",
    "        'state_dict':model.state_dict(),\n",
    "        'best_acc': best_acc,\n",
    "        'optimizer':optimizer.state_dict(),\n",
    "    },is_best)\n",
    "    "
   ]
  },
  {
   "cell_type": "code",
   "execution_count": null,
   "metadata": {},
   "outputs": [],
   "source": []
  }
 ],
 "metadata": {
  "kernelspec": {
   "display_name": "Python 3",
   "language": "python",
   "name": "python3"
  },
  "language_info": {
   "codemirror_mode": {
    "name": "ipython",
    "version": 3
   },
   "file_extension": ".py",
   "mimetype": "text/x-python",
   "name": "python",
   "nbconvert_exporter": "python",
   "pygments_lexer": "ipython3",
   "version": "3.5.2"
  }
 },
 "nbformat": 4,
 "nbformat_minor": 2
}
