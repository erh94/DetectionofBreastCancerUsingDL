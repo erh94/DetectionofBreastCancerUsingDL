{
 "cells": [
  {
   "cell_type": "code",
   "execution_count": 1,
   "metadata": {},
   "outputs": [],
   "source": [
    "from __future__ import print_function, division\n",
    "import pydicom\n",
    "import torch\n",
    "import os\n",
    "import sys\n",
    "import pandas as pd\n",
    "import numpy as np\n",
    "import pydicom as DCM\n",
    "import matplotlib.pyplot as plt\n",
    "from torch.utils.data import Dataset, DataLoader\n",
    "from torchvision import transforms, utils\n",
    "from PIL import Image, ImageOps, ImageEnhance\n",
    "from sklearn.preprocessing import LabelEncoder\n",
    "from skimage import img_as_float\n",
    "import torchvision\n",
    "import torch\n",
    "from sklearn.feature_extraction.image import extract_patches_2d\n",
    "import PIL\n",
    "from skimage.util import img_as_bool"
   ]
  },
  {
   "cell_type": "code",
   "execution_count": 2,
   "metadata": {},
   "outputs": [],
   "source": [
    "import warnings\n",
    "warnings.filterwarnings(\"ignore\")\n",
    "plt.ion()"
   ]
  },
  {
   "cell_type": "code",
   "execution_count": 3,
   "metadata": {},
   "outputs": [
    {
     "name": "stdout",
     "output_type": "stream",
     "text": [
      "MALIGNANT    1165\n",
      "BENIGN       1056\n",
      "Name: pathology, dtype: int64\n",
      "2221\n"
     ]
    }
   ],
   "source": [
    "train_df =  pd.read_csv('train.csv')\n",
    "print(train_df['pathology'].value_counts())\n",
    "print(train_df['pathology'].count())"
   ]
  },
  {
   "cell_type": "code",
   "execution_count": 4,
   "metadata": {},
   "outputs": [
    {
     "name": "stdout",
     "output_type": "stream",
     "text": [
      "BENIGN       311\n",
      "MALIGNANT    274\n",
      "Name: pathology, dtype: int64\n"
     ]
    }
   ],
   "source": [
    "test_df =pd.read_csv('test.csv')\n",
    "print(test_df['pathology'].value_counts())"
   ]
  },
  {
   "cell_type": "code",
   "execution_count": 5,
   "metadata": {},
   "outputs": [
    {
     "data": {
      "text/plain": [
       "2221"
      ]
     },
     "execution_count": 5,
     "metadata": {},
     "output_type": "execute_result"
    }
   ],
   "source": [
    "len(train_df)"
   ]
  },
  {
   "cell_type": "code",
   "execution_count": null,
   "metadata": {},
   "outputs": [],
   "source": [
    "label=np.zeros(train_df.pathology.nunique())\n",
    "label_index =  train_df.pathology_class[27]\n",
    "label_index"
   ]
  },
  {
   "cell_type": "code",
   "execution_count": null,
   "metadata": {},
   "outputs": [],
   "source": [
    "label[label_index]=1"
   ]
  },
  {
   "cell_type": "code",
   "execution_count": null,
   "metadata": {},
   "outputs": [],
   "source": [
    "label"
   ]
  },
  {
   "cell_type": "code",
   "execution_count": null,
   "metadata": {},
   "outputs": [],
   "source": [
    "\n",
    "class FullTrainingDataset(Dataset):\n",
    "    def __init__(self, full_ds, offset, length):\n",
    "        self.full_ds = full_ds\n",
    "        self.offset = offset\n",
    "        self.length = length\n",
    "        # super(FullTrainingDataset, self).init()\n",
    "\n",
    "    def __len__(self):\n",
    "        return self.length\n",
    "\n",
    "    def __getitem__(self, i):\n",
    "        return self.full_ds[i+self.offset]\n",
    "\n",
    "\n",
    "def trainValSplit(dataset, val_share):\n",
    "    val_offset = int(len(dataset)*(1-val_share))\n",
    "    \n",
    "    return FullTrainingDataset(dataset, 0, val_offset), FullTrainingDataset(dataset, val_offset, len(dataset)-val_offset)\n"
   ]
  },
  {
   "cell_type": "code",
   "execution_count": null,
   "metadata": {},
   "outputs": [],
   "source": [
    "class MammographyDataset(Dataset):\n",
    "    \"\"\"Creating CBIS-DDSM pytorch dataset.\"\"\"\n",
    "\n",
    "    def __init__(self, csv_file, root_dir,img_size):\n",
    "        \"\"\"\n",
    "        Args:\n",
    "            csv_file (string): Path to the csv file containing labels.\n",
    "            root_dir (string): path to CuratedDDSM directory.\n",
    "            transform (callable, optional): Optional transform to be applied\n",
    "                on a sample.\n",
    "        \"\"\"\n",
    "        #Image size\n",
    "        self.img_size = img_size\n",
    "        # Transforms\n",
    "        self.to_tensor = transforms.ToTensor()\n",
    "        # Read the csv file\n",
    "        self.frame = pd.read_csv(csv_file)\n",
    "        # Image Columns\n",
    "        self.image_arr = np.asarray(self.frame['image file path'])\n",
    "        # Labels\n",
    "        self.label_arr = np.asarray(self.frame['pathology_class'])\n",
    "        # Calculate Len\n",
    "        self.data_len = len(self.frame.index)\n",
    "        # Location of Curated DDSM\n",
    "        self.root_dir = root_dir\n",
    "        # Transformations to convert image into 512*512\n",
    "        self.transformations =  transforms.Compose([transforms.Grayscale(1),\n",
    "                               transforms.Resize(img_size,interpolation=Image.LANCZOS),\n",
    "                               transforms.CenterCrop(img_size)])\n",
    "\n",
    "    def __len__(self):\n",
    "        return self.data_len\n",
    "\n",
    "    def __getitem__(self, index):\n",
    "        # Open image\n",
    "        #img_as_img = Image.open(single_image_name)\n",
    "        image_path = os.path.join(self.root_dir,self.image_arr[index])\n",
    "        image_dcm= DCM.read_file(image_path)\n",
    "        \n",
    "        image_2d = image_dcm.pixel_array.astype(float)\n",
    "        image_2d_scaled = (np.maximum(image_2d,0)/ image_2d.max()) * 255.0\n",
    "        image_2d_scaled = np.uint8(image_2d_scaled)\n",
    "        #Transform image to 512 * 512 \n",
    "        img = Image.fromarray(image_2d_scaled)\n",
    "        img_as_img = self.transformations(img)\n",
    "        # Transform image to tensor\n",
    "        img_as_tensor = self.to_tensor(img_as_img)\n",
    "\n",
    "        # Get label(class) of the image based on the cropped pandas column\n",
    "        image_label = self.label_arr[index]\n",
    "\n",
    "        return (img_as_tensor, image_label)"
   ]
  },
  {
   "cell_type": "code",
   "execution_count": 6,
   "metadata": {},
   "outputs": [
    {
     "name": "stdout",
     "output_type": "stream",
     "text": [
      "MALIGNANT    1165\n",
      "BENIGN       1056\n",
      "Name: pathology, dtype: int64\n"
     ]
    },
    {
     "data": {
      "text/plain": [
       "0       MALIGNANT\n",
       "1       MALIGNANT\n",
       "2          BENIGN\n",
       "3          BENIGN\n",
       "4          BENIGN\n",
       "5       MALIGNANT\n",
       "6       MALIGNANT\n",
       "7       MALIGNANT\n",
       "8          BENIGN\n",
       "9          BENIGN\n",
       "10         BENIGN\n",
       "11         BENIGN\n",
       "12         BENIGN\n",
       "13         BENIGN\n",
       "14      MALIGNANT\n",
       "15      MALIGNANT\n",
       "16         BENIGN\n",
       "17         BENIGN\n",
       "18         BENIGN\n",
       "19         BENIGN\n",
       "20      MALIGNANT\n",
       "21      MALIGNANT\n",
       "22      MALIGNANT\n",
       "23      MALIGNANT\n",
       "24         BENIGN\n",
       "25         BENIGN\n",
       "26         BENIGN\n",
       "27         BENIGN\n",
       "28         BENIGN\n",
       "29         BENIGN\n",
       "          ...    \n",
       "2191    MALIGNANT\n",
       "2192    MALIGNANT\n",
       "2193    MALIGNANT\n",
       "2194    MALIGNANT\n",
       "2195    MALIGNANT\n",
       "2196    MALIGNANT\n",
       "2197    MALIGNANT\n",
       "2198    MALIGNANT\n",
       "2199       BENIGN\n",
       "2200       BENIGN\n",
       "2201    MALIGNANT\n",
       "2202    MALIGNANT\n",
       "2203    MALIGNANT\n",
       "2204    MALIGNANT\n",
       "2205    MALIGNANT\n",
       "2206    MALIGNANT\n",
       "2207    MALIGNANT\n",
       "2208    MALIGNANT\n",
       "2209    MALIGNANT\n",
       "2210    MALIGNANT\n",
       "2211    MALIGNANT\n",
       "2212    MALIGNANT\n",
       "2213       BENIGN\n",
       "2214       BENIGN\n",
       "2215    MALIGNANT\n",
       "2216    MALIGNANT\n",
       "2217    MALIGNANT\n",
       "2218    MALIGNANT\n",
       "2219       BENIGN\n",
       "2220       BENIGN\n",
       "Name: pathology, Length: 2221, dtype: object"
      ]
     },
     "execution_count": 6,
     "metadata": {},
     "output_type": "execute_result"
    }
   ],
   "source": [
    "classes=train_df['pathology']\n",
    "print(classes.value_counts())\n",
    "classes"
   ]
  },
  {
   "cell_type": "code",
   "execution_count": 8,
   "metadata": {},
   "outputs": [
    {
     "name": "stdout",
     "output_type": "stream",
     "text": [
      "0\n",
      "MALIGNANT\n"
     ]
    },
    {
     "ename": "NameError",
     "evalue": "name 'fig' is not defined",
     "output_type": "error",
     "traceback": [
      "\u001b[0;31m---------------------------------------------------------------------------\u001b[0m",
      "\u001b[0;31mNameError\u001b[0m                                 Traceback (most recent call last)",
      "\u001b[0;32m<ipython-input-8-1b7eea38d9d8>\u001b[0m in \u001b[0;36m<module>\u001b[0;34m\u001b[0m\n\u001b[1;32m     31\u001b[0m     \u001b[0max5\u001b[0m\u001b[0;34m.\u001b[0m\u001b[0mimshow\u001b[0m\u001b[0;34m(\u001b[0m\u001b[0mmask\u001b[0m\u001b[0;34m,\u001b[0m\u001b[0mcmap\u001b[0m\u001b[0;34m=\u001b[0m\u001b[0;34m'gray'\u001b[0m\u001b[0;34m)\u001b[0m\u001b[0;34m\u001b[0m\u001b[0m\n\u001b[1;32m     32\u001b[0m     \u001b[0max6\u001b[0m\u001b[0;34m.\u001b[0m\u001b[0mimshow\u001b[0m\u001b[0;34m(\u001b[0m\u001b[0mimg\u001b[0m\u001b[0;34m*\u001b[0m\u001b[0mmask\u001b[0m\u001b[0;34m,\u001b[0m\u001b[0mcmap\u001b[0m\u001b[0;34m=\u001b[0m\u001b[0;34m'gray'\u001b[0m\u001b[0;34m)\u001b[0m\u001b[0;34m\u001b[0m\u001b[0m\n\u001b[0;32m---> 33\u001b[0;31m     \u001b[0mfig\u001b[0m\u001b[0;34m.\u001b[0m\u001b[0msuptitle\u001b[0m\u001b[0;34m(\u001b[0m\u001b[0mtrain_df\u001b[0m\u001b[0;34m[\u001b[0m\u001b[0;34m'pathology'\u001b[0m\u001b[0;34m]\u001b[0m\u001b[0;34m[\u001b[0m\u001b[0midx\u001b[0m\u001b[0;34m]\u001b[0m\u001b[0;34m)\u001b[0m\u001b[0;34m\u001b[0m\u001b[0m\n\u001b[0m\u001b[1;32m     34\u001b[0m     \u001b[0mprint\u001b[0m\u001b[0;34m(\u001b[0m\u001b[0mfilename\u001b[0m\u001b[0;34m)\u001b[0m\u001b[0;34m\u001b[0m\u001b[0m\n\u001b[1;32m     35\u001b[0m     \u001b[0mplt\u001b[0m\u001b[0;34m.\u001b[0m\u001b[0msavefig\u001b[0m\u001b[0;34m(\u001b[0m\u001b[0;34m'./images/'\u001b[0m\u001b[0;34m+\u001b[0m\u001b[0mfilename\u001b[0m\u001b[0;34m+\u001b[0m\u001b[0;34m'.png'\u001b[0m\u001b[0;34m)\u001b[0m\u001b[0;34m\u001b[0m\u001b[0m\n",
      "\u001b[0;31mNameError\u001b[0m: name 'fig' is not defined"
     ]
    },
    {
     "data": {
      "image/png": "[encoded data removed]",
      "text/plain": [
       "<Figure size 1296x720 with 6 Axes>"
      ]
     },
     "metadata": {
      "needs_background": "light"
     },
     "output_type": "display_data"
    }
   ],
   "source": [
    "idx=np.random.randint(0,2221)\n",
    "# idx=24\n",
    "# idx = 1531\n",
    "idx = 2186\n",
    "for idx in range(len(train_df)):\n",
    "    print(idx)\n",
    "    filename =  train_df['patient_id'][idx]+train_df['image view'][idx]\n",
    "    imgdcm = train_df['image file path'][idx]\n",
    "    maskdcm = train_df['ROI mask file path'][idx]\n",
    "    img =  DCM.read_file(imgdcm).pixel_array.astype(float)\n",
    "    mask = DCM.read_file(maskdcm).pixel_array.astype(float)\n",
    "    img = (np.maximum(img,0)/ img.max()) * 255.0\n",
    "    img = np.uint8(img)\n",
    "    mask = (np.maximum(mask,0)/mask.max())\n",
    "    # print(imgdcm)\n",
    "    # print(maskdcm)\n",
    "    print(train_df['pathology'][idx])\n",
    "    plt.rcParams[\"figure.figsize\"] = [18,10]\n",
    "    f = plt.figure(figsize=(18,10))\n",
    "    ax = f.add_subplot(231)\n",
    "    ax2 = f.add_subplot(232)\n",
    "    ax3=f.add_subplot(233)\n",
    "    ax.imshow(img,cmap='jet')\n",
    "    ax2.imshow(mask,cmap='gray')\n",
    "    ax3.imshow(img*mask,cmap='jet')\n",
    "    # f = plt.figure(figsize=(15,12))\n",
    "    ax4 = f.add_subplot(234)\n",
    "    ax5 = f.add_subplot(235)\n",
    "    ax6=f.add_subplot(236)\n",
    "    ax4.imshow(img,cmap='gray')\n",
    "    ax5.imshow(mask,cmap='gray')\n",
    "    ax6.imshow(img*mask,cmap='gray')\n",
    "    fig.suptitle(train_df['pathology'][idx])\n",
    "    print(filename)\n",
    "    plt.savefig('./images/'+filename+'.png')\n",
    "\n",
    "\n",
    "\n",
    "\n",
    "\n",
    "\n"
   ]
  },
  {
   "cell_type": "code",
   "execution_count": null,
   "metadata": {},
   "outputs": [],
   "source": [
    "np.max(mask)"
   ]
  },
  {
   "cell_type": "code",
   "execution_count": null,
   "metadata": {},
   "outputs": [],
   "source": [
    "imgPIL = PIL.Image.fromarray(img)\n",
    "plt.imshow(img,cmap='gray')"
   ]
  },
  {
   "cell_type": "code",
   "execution_count": null,
   "metadata": {},
   "outputs": [],
   "source": [
    "plt.imshow(imgPIL)\n",
    "imgPIL = imgPIL.convert(\"L\")\n",
    "imgPIL.save('../images/'+filename+'.png')\n",
    "patches=torchvision.transforms.functional.ten_crop(imgPIL, 512, vertical_flip=False)"
   ]
  },
  {
   "cell_type": "code",
   "execution_count": 7,
   "metadata": {},
   "outputs": [
    {
     "ename": "KeyboardInterrupt",
     "evalue": "",
     "output_type": "error",
     "traceback": [
      "\u001b[0;31m---------------------------------------------------------------------------\u001b[0m",
      "\u001b[0;31mAttributeError\u001b[0m                            Traceback (most recent call last)",
      "\u001b[0;32m~/py3Env/lib/python3.5/site-packages/PIL/ImageFile.py\u001b[0m in \u001b[0;36m_save\u001b[0;34m(im, fp, tile, bufsize)\u001b[0m\n\u001b[1;32m    484\u001b[0m     \u001b[0;32mtry\u001b[0m\u001b[0;34m:\u001b[0m\u001b[0;34m\u001b[0m\u001b[0m\n\u001b[0;32m--> 485\u001b[0;31m         \u001b[0mfh\u001b[0m \u001b[0;34m=\u001b[0m \u001b[0mfp\u001b[0m\u001b[0;34m.\u001b[0m\u001b[0mfileno\u001b[0m\u001b[0;34m(\u001b[0m\u001b[0;34m)\u001b[0m\u001b[0;34m\u001b[0m\u001b[0m\n\u001b[0m\u001b[1;32m    486\u001b[0m         \u001b[0mfp\u001b[0m\u001b[0;34m.\u001b[0m\u001b[0mflush\u001b[0m\u001b[0;34m(\u001b[0m\u001b[0;34m)\u001b[0m\u001b[0;34m\u001b[0m\u001b[0m\n",
      "\u001b[0;31mAttributeError\u001b[0m: '_idat' object has no attribute 'fileno'",
      "\nDuring handling of the above exception, another exception occurred:\n",
      "\u001b[0;31mKeyboardInterrupt\u001b[0m                         Traceback (most recent call last)",
      "\u001b[0;32m<ipython-input-7-8c448ba2e2ad>\u001b[0m in \u001b[0;36m<module>\u001b[0;34m\u001b[0m\n\u001b[1;32m     41\u001b[0m     \u001b[0mplt\u001b[0m\u001b[0;34m.\u001b[0m\u001b[0mimshow\u001b[0m\u001b[0;34m(\u001b[0m\u001b[0mimgPIL\u001b[0m\u001b[0;34m)\u001b[0m\u001b[0;34m\u001b[0m\u001b[0m\n\u001b[1;32m     42\u001b[0m     \u001b[0mimgPIL\u001b[0m \u001b[0;34m=\u001b[0m \u001b[0mimgPIL\u001b[0m\u001b[0;34m.\u001b[0m\u001b[0mconvert\u001b[0m\u001b[0;34m(\u001b[0m\u001b[0;34m\"L\"\u001b[0m\u001b[0;34m)\u001b[0m\u001b[0;34m\u001b[0m\u001b[0m\n\u001b[0;32m---> 43\u001b[0;31m     \u001b[0mimgPIL\u001b[0m\u001b[0;34m.\u001b[0m\u001b[0msave\u001b[0m\u001b[0;34m(\u001b[0m\u001b[0;34m'../images/'\u001b[0m\u001b[0;34m+\u001b[0m\u001b[0mfilename\u001b[0m\u001b[0;34m+\u001b[0m\u001b[0;34m'.png'\u001b[0m\u001b[0;34m)\u001b[0m\u001b[0;34m\u001b[0m\u001b[0m\n\u001b[0m\u001b[1;32m     44\u001b[0m \u001b[0;31m#     patches=torchvision.transforms.functional.ten_crop(imgPIL, 512, vertical_flip=False)\u001b[0m\u001b[0;34m\u001b[0m\u001b[0;34m\u001b[0m\u001b[0m\n",
      "\u001b[0;32m~/py3Env/lib/python3.5/site-packages/PIL/Image.py\u001b[0m in \u001b[0;36msave\u001b[0;34m(self, fp, format, **params)\u001b[0m\n\u001b[1;32m   1967\u001b[0m \u001b[0;34m\u001b[0m\u001b[0m\n\u001b[1;32m   1968\u001b[0m         \u001b[0;32mtry\u001b[0m\u001b[0;34m:\u001b[0m\u001b[0;34m\u001b[0m\u001b[0m\n\u001b[0;32m-> 1969\u001b[0;31m             \u001b[0msave_handler\u001b[0m\u001b[0;34m(\u001b[0m\u001b[0mself\u001b[0m\u001b[0;34m,\u001b[0m \u001b[0mfp\u001b[0m\u001b[0;34m,\u001b[0m \u001b[0mfilename\u001b[0m\u001b[0;34m)\u001b[0m\u001b[0;34m\u001b[0m\u001b[0m\n\u001b[0m\u001b[1;32m   1970\u001b[0m         \u001b[0;32mfinally\u001b[0m\u001b[0;34m:\u001b[0m\u001b[0;34m\u001b[0m\u001b[0m\n\u001b[1;32m   1971\u001b[0m             \u001b[0;31m# do what we can to clean up\u001b[0m\u001b[0;34m\u001b[0m\u001b[0;34m\u001b[0m\u001b[0m\n",
      "\u001b[0;32m~/py3Env/lib/python3.5/site-packages/PIL/PngImagePlugin.py\u001b[0m in \u001b[0;36m_save\u001b[0;34m(im, fp, filename, chunk)\u001b[0m\n\u001b[1;32m    822\u001b[0m \u001b[0;34m\u001b[0m\u001b[0m\n\u001b[1;32m    823\u001b[0m     ImageFile._save(im, _idat(fp, chunk),\n\u001b[0;32m--> 824\u001b[0;31m                     [(\"zip\", (0, 0)+im.size, 0, rawmode)])\n\u001b[0m\u001b[1;32m    825\u001b[0m \u001b[0;34m\u001b[0m\u001b[0m\n\u001b[1;32m    826\u001b[0m     \u001b[0mchunk\u001b[0m\u001b[0;34m(\u001b[0m\u001b[0mfp\u001b[0m\u001b[0;34m,\u001b[0m \u001b[0;34mb\"IEND\"\u001b[0m\u001b[0;34m,\u001b[0m \u001b[0;34mb\"\"\u001b[0m\u001b[0;34m)\u001b[0m\u001b[0;34m\u001b[0m\u001b[0m\n",
      "\u001b[0;32m~/py3Env/lib/python3.5/site-packages/PIL/ImageFile.py\u001b[0m in \u001b[0;36m_save\u001b[0;34m(im, fp, tile, bufsize)\u001b[0m\n\u001b[1;32m    497\u001b[0m             \u001b[0;32melse\u001b[0m\u001b[0;34m:\u001b[0m\u001b[0;34m\u001b[0m\u001b[0m\n\u001b[1;32m    498\u001b[0m                 \u001b[0;32mwhile\u001b[0m \u001b[0;32mTrue\u001b[0m\u001b[0;34m:\u001b[0m\u001b[0;34m\u001b[0m\u001b[0m\n\u001b[0;32m--> 499\u001b[0;31m                     \u001b[0ml\u001b[0m\u001b[0;34m,\u001b[0m \u001b[0ms\u001b[0m\u001b[0;34m,\u001b[0m \u001b[0md\u001b[0m \u001b[0;34m=\u001b[0m \u001b[0me\u001b[0m\u001b[0;34m.\u001b[0m\u001b[0mencode\u001b[0m\u001b[0;34m(\u001b[0m\u001b[0mbufsize\u001b[0m\u001b[0;34m)\u001b[0m\u001b[0;34m\u001b[0m\u001b[0m\n\u001b[0m\u001b[1;32m    500\u001b[0m                     \u001b[0mfp\u001b[0m\u001b[0;34m.\u001b[0m\u001b[0mwrite\u001b[0m\u001b[0;34m(\u001b[0m\u001b[0md\u001b[0m\u001b[0;34m)\u001b[0m\u001b[0;34m\u001b[0m\u001b[0m\n\u001b[1;32m    501\u001b[0m                     \u001b[0;32mif\u001b[0m \u001b[0ms\u001b[0m\u001b[0;34m:\u001b[0m\u001b[0;34m\u001b[0m\u001b[0m\n",
      "\u001b[0;31mKeyboardInterrupt\u001b[0m: "
     ]
    },
    {
     "data": {
      "image/png": "[encoded data removed]",
      "text/plain": [
       "<Figure size 432x288 with 1 Axes>"
      ]
     },
     "metadata": {
      "needs_background": "light"
     },
     "output_type": "display_data"
    }
   ],
   "source": [
    "idx=np.random.randint(0,2221)\n",
    "# idx=24\n",
    "# idx = 1531\n",
    "idx = 2186\n",
    "for idx in range(len(train_df)):\n",
    "    filename =  train_df['patient_id'][idx]+train_df['image view'][idx]\n",
    "    imgdcm = train_df['image file path'][idx]\n",
    "    maskdcm = train_df['ROI mask file path'][idx]\n",
    "    img =  DCM.read_file(imgdcm).pixel_array.astype(float)\n",
    "    mask = DCM.read_file(maskdcm).pixel_array.astype(float)\n",
    "    img = (np.maximum(img,0)/ img.max()) * 255.0\n",
    "    img = np.uint8(img)\n",
    "    mask = (np.maximum(mask,0)/mask.max())\n",
    "    # print(imgdcm)\n",
    "    # print(maskdcm)\n",
    "#     print(train_df['pathology'][idx])\n",
    "#     plt.rcParams[\"figure.figsize\"] = [18,10]\n",
    "#     f = plt.figure(figsize=(18,10))\n",
    "#     ax = f.add_subplot(231)\n",
    "#     ax2 = f.add_subplot(232)\n",
    "#     ax3=f.add_subplot(233)\n",
    "#     ax.imshow(img,cmap='jet')\n",
    "#     ax2.imshow(mask,cmap='gray')\n",
    "#     ax3.imshow(img*mask,cmap='jet')\n",
    "#     # f = plt.figure(figsize=(15,12))\n",
    "#     ax4 = f.add_subplot(234)\n",
    "#     ax5 = f.add_subplot(235)\n",
    "#     ax6=f.add_subplot(236)\n",
    "#     ax4.imshow(img,cmap='gray')\n",
    "#     ax5.imshow(mask,cmap='gray')\n",
    "#     ax6.imshow(img*mask,cmap='gray')\n",
    "#     print(filename)\n",
    "# plt.savefig('./images/'+filename+'.png')\n",
    "\n",
    "    np.max(mask)\n",
    "\n",
    "\n",
    "    imgPIL = PIL.Image.fromarray(img)\n",
    "    # plt.imshow(img,cmap='gray')\n",
    "\n",
    "    plt.imshow(imgPIL)\n",
    "    imgPIL = imgPIL.convert(\"L\")\n",
    "    imgPIL.save('../images/'+filename+'.png')\n",
    "#     patches=torchvision.transforms.functional.ten_crop(imgPIL, 512, vertical_flip=False)"
   ]
  },
  {
   "cell_type": "code",
   "execution_count": null,
   "metadata": {},
   "outputs": [],
   "source": [
    "from skimage.util.shape import view_as_blocks"
   ]
  },
  {
   "cell_type": "code",
   "execution_count": null,
   "metadata": {},
   "outputs": [],
   "source": [
    "# blocks = view_as_blocks(img,(512,512))"
   ]
  },
  {
   "cell_type": "markdown",
   "metadata": {},
   "source": [
    "# Convert an image into patches"
   ]
  },
  {
   "cell_type": "code",
   "execution_count": null,
   "metadata": {},
   "outputs": [],
   "source": [
    "plt.imshow(img,cmap='gray')"
   ]
  },
  {
   "cell_type": "code",
   "execution_count": null,
   "metadata": {},
   "outputs": [],
   "source": [
    "patches = extract_patches_2d(img, (512,512),max_patches=21, random_state=1)\n",
    "maskpatches = extract_patches_2d(mask,(512,512),max_patches=21,random_state=1)\n",
    "labels=[]\n",
    "for eachmask in maskpatches:\n",
    "    labels.append(img_as_bool(eachmask).any())\n",
    "labels = [int(elem) for elem in labels]"
   ]
  },
  {
   "cell_type": "code",
   "execution_count": null,
   "metadata": {},
   "outputs": [],
   "source": [
    "len(patches)"
   ]
  },
  {
   "cell_type": "code",
   "execution_count": null,
   "metadata": {},
   "outputs": [],
   "source": [
    "dummypatches =  np.random.rand(21,512,512,1)\n",
    "dummypatches.shape"
   ]
  },
  {
   "cell_type": "code",
   "execution_count": null,
   "metadata": {},
   "outputs": [],
   "source": [
    "from skimage.util import img_as_bool"
   ]
  },
  {
   "cell_type": "code",
   "execution_count": null,
   "metadata": {},
   "outputs": [],
   "source": [
    "pilpatches = PIL.Image.fromarray(patches[0])\n",
    "pilpatches"
   ]
  },
  {
   "cell_type": "code",
   "execution_count": null,
   "metadata": {},
   "outputs": [],
   "source": [
    "to_tensor = transforms.ToTensor()\n",
    "patchtensor = to_tensor(pilpatches)\n",
    "patchtensor.shape"
   ]
  },
  {
   "cell_type": "code",
   "execution_count": null,
   "metadata": {},
   "outputs": [],
   "source": [
    "new=patchtensor.unsqueeze(0)\n",
    "new.shape"
   ]
  },
  {
   "cell_type": "code",
   "execution_count": null,
   "metadata": {},
   "outputs": [],
   "source": [
    "patches_tensor =  torch.from_numpy(patches)"
   ]
  },
  {
   "cell_type": "code",
   "execution_count": null,
   "metadata": {},
   "outputs": [],
   "source": [
    "patches_tensor.shape\n",
    "new = patches_tensor.unsqueeze(1)\n",
    "new[0].shape"
   ]
  },
  {
   "cell_type": "code",
   "execution_count": null,
   "metadata": {},
   "outputs": [],
   "source": [
    "count=0\n",
    "for eachpatch in patches:\n",
    "    if count==0:\n",
    "        f = plt.figure(figsize=(16,8))\n",
    "        ax = f.add_subplot(171)\n",
    "        ax2 = f.add_subplot(172)\n",
    "        ax3=f.add_subplot(173)\n",
    "        ax4=f.add_subplot(174)\n",
    "        ax5=f.add_subplot(175)\n",
    "        ax6=f.add_subplot(176)\n",
    "        ax7=f.add_subplot(177)\n",
    "        ax.imshow(eachpatch,cmap='gray')\n",
    "        count=count+1\n",
    "        continue\n",
    "    if count==1:\n",
    "        count=count+1\n",
    "        ax2.imshow(eachpatch,cmap='gray')\n",
    "        continue\n",
    "    if count==2:\n",
    "        count=count+1\n",
    "        ax3.imshow(eachpatch,cmap='gray')\n",
    "        continue\n",
    "    if count==3:\n",
    "        count=count+1\n",
    "        ax4.imshow(eachpatch,cmap='gray')\n",
    "        continue\n",
    "    if count==4:\n",
    "        count=count+1\n",
    "        ax5.imshow(eachpatch,cmap='gray')\n",
    "        continue\n",
    "    if count==5:\n",
    "        count=count+1\n",
    "        ax6.imshow(eachpatch,cmap='gray')\n",
    "        continue\n",
    "    if count==6:\n",
    "        count=count+1\n",
    "        ax7.imshow(eachpatch,cmap='gray')\n",
    "        count=0\n",
    "        continue\n",
    "print(train_df['pathology'][idx])"
   ]
  },
  {
   "cell_type": "code",
   "execution_count": null,
   "metadata": {},
   "outputs": [],
   "source": [
    "count=0\n",
    "for eachpatch in maskpatches:\n",
    "    if count==0:\n",
    "        f = plt.figure(figsize=(15,12))\n",
    "        ax = f.add_subplot(131)\n",
    "        ax2 = f.add_subplot(132)\n",
    "        ax3=f.add_subplot(133)\n",
    "        ax.imshow(eachpatch,cmap='gray')\n",
    "        count=count+1\n",
    "        continue\n",
    "    if count==1:\n",
    "        count=count+1\n",
    "        ax2.imshow(eachpatch,cmap='gray')\n",
    "        continue\n",
    "    if count==2:\n",
    "        count=count+1\n",
    "        ax3.imshow(eachpatch,cmap='gray')\n",
    "        count=0\n",
    "        continue"
   ]
  },
  {
   "cell_type": "code",
   "execution_count": null,
   "metadata": {},
   "outputs": [],
   "source": []
  },
  {
   "cell_type": "code",
   "execution_count": null,
   "metadata": {},
   "outputs": [],
   "source": [
    "# landmarks_frame = pd.read_csv('faces/face_landmarks.csv')\n",
    "# n = 65\n",
    "# # accessing nth row \n",
    "# img_name = landmarks_frame.iloc[n, 0]\n",
    "# landmarks = landmarks_frame.iloc[n, 1:].as_matrix()\n",
    "# landmarks = landmarks.astype('float').reshape(-1, 2)\n",
    "# # unknown rows but only two columns x and y\n",
    "\n",
    "# print('Image name: {}'.format(img_name))\n",
    "# print('Landmarks shape: {}'.format(landmarks.shape))\n",
    "# print('First 4 Landmarks: {}'.format(landmarks[:4]))\n",
    "# plt.imshow(io.imread(os.path.join('faces/',img_name)))"
   ]
  },
  {
   "cell_type": "code",
   "execution_count": null,
   "metadata": {},
   "outputs": [],
   "source": []
  },
  {
   "cell_type": "code",
   "execution_count": null,
   "metadata": {},
   "outputs": [],
   "source": [
    "def createTrainFrame():\n",
    "    \n",
    "    train_mass_csv = pd.read_csv(\"../../CuratedDDSM/Train/mass_case_description_train_set.csv\")\n",
    "    train_calc_csv = pd.read_csv(\"../../CuratedDDSM/Train/calc_case_description_train_set.csv\")\n",
    "    train_calc_csv = train_calc_csv.rename(columns={'breast density': 'breast_density'})\n",
    "    train_calc_csv['image file path'] = 'Calc/CBIS-DDSM/'+ train_calc_csv['image file path']\n",
    "    train_calc_csv['ROI mask file path'] ='CalcROI/CBIS-DDSM/' + train_calc_csv['ROI mask file path']\n",
    "    train_calc_csv['cropped image file path'] ='CalcROI/CBIS-DDSM/' + train_calc_csv['cropped image file path']\n",
    "    train_mass_csv['image file path'] = 'Mass/CBIS-DDSM/' + train_mass_csv['image file path']\n",
    "    train_mass_csv['ROI mask file path'] ='MassROI/CBIS-DDSM/' + train_mass_csv['ROI mask file path']\n",
    "    train_mass_csv['cropped image file path'] ='MassROI/CBIS-DDSM/'+ train_mass_csv['cropped image file path']\n",
    "    common_col = list(set(train_calc_csv.columns) & set(train_mass_csv.columns))\n",
    "    train = pd.concat([train_mass_csv[common_col], train_calc_csv[common_col]], ignore_index=True,sort='False')\n",
    "    train['image file path'] = 'CuratedDDSM/Train/'+train['image file path'] \n",
    "    train['ROI mask file path'] = 'CuratedDDSM/Train/'+train['ROI mask file path']\n",
    "    train['cropped image file path'] = 'CuratedDDSM/Train/'+train['cropped image file path']\n",
    "    train['pathology_class'] = LabelEncoder().fit_transform(train_df['pathology'])\n",
    "    \n",
    "    return train\n",
    "\n",
    "def createTestFrame():\n",
    "    test_mass_csv = pd.read_csv(\"../CuratedDDSM/Test/mass_case_description_test_set.csv\")\n",
    "    test_calc_csv = pd.read_csv(\"../CuratedDDSM/Test/calc_case_description_test_set.csv\")\n",
    "    test_calc_csv = test_calc_csv.rename(columns={'breast density': 'breast_density'})\n",
    "    test_calc_csv['image file path'] = 'Calc/CBIS-DDSM/'+ test_calc_csv['image file path']\n",
    "    test_calc_csv['ROI mask file path'] ='CalcROI/CBIS-DDSM/' + test_calc_csv['ROI mask file path']\n",
    "    test_calc_csv['cropped image file path'] ='CalcROI/CBIS-DDSM/' + test_calc_csv['cropped image file path']\n",
    "    test_mass_csv['image file path'] = 'Mass/CBIS-DDSM/' + test_mass_csv['image file path']\n",
    "    test_mass_csv['ROI mask file path'] ='MassROI/CBIS-DDSM/' + test_mass_csv['ROI mask file path']\n",
    "    test_mass_csv['cropped image file path'] ='MassROI/CBIS-DDSM/'+ test_mass_csv['cropped image file path']\n",
    "    common_col = list(set(test_calc_csv.columns) & set(test_mass_csv.columns))\n",
    "    test = pd.concat([test_mass_csv[common_col], test_calc_csv[common_col]], ignore_index=True,sort='False')\n",
    "    test['image file path'] = 'CuratedDDSM/Test/'+test['image file path'] \n",
    "    test['ROI mask file path'] = 'CuratedDDSM/Test/'+test['ROI mask file path']\n",
    "    test['cropped image file path'] = 'CuratedDDSM/Test/'+test['cropped image file path']\n",
    "    train['pathology_class'] = LabelEncoder().fit_transform(train_df['pathology'])\n",
    "    \n",
    "    return test"
   ]
  },
  {
   "cell_type": "code",
   "execution_count": null,
   "metadata": {},
   "outputs": [],
   "source": [
    "train_df['class'] = LabelEncoder().fit_transform(train_df['pathology']) \n",
    "train_df[['pathology', 'class']]\n",
    "    "
   ]
  },
  {
   "cell_type": "code",
   "execution_count": null,
   "metadata": {},
   "outputs": [],
   "source": [
    "train_df = createTrainFrame()\n",
    "test_df = createTestFrame()\n",
    "mammogram_dir = '/home/himanshu/CuratedDDSM/'\n",
    "train_df.to_csv('train.csv')\n",
    "test_df.to_csv('test.csv')\n",
    "pd.get_dummies(train_df, columns=['pathology'])\n",
    "# pytorch handles numeric labels for inbuilt loss functions\n",
    "train_df"
   ]
  },
  {
   "cell_type": "code",
   "execution_count": null,
   "metadata": {},
   "outputs": [],
   "source": [
    "train_df = createTrainFrame()"
   ]
  },
  {
   "cell_type": "code",
   "execution_count": null,
   "metadata": {},
   "outputs": [],
   "source": [
    "\n",
    "# image_path = os.path.join(homedir,train['image file path'][0])\n",
    "# image_path"
   ]
  },
  {
   "cell_type": "code",
   "execution_count": null,
   "metadata": {},
   "outputs": [],
   "source": [
    "# train['image file path'][0]"
   ]
  },
  {
   "cell_type": "code",
   "execution_count": null,
   "metadata": {},
   "outputs": [],
   "source": [
    "# train = pd.concat([train_calc_csv[common_col], train_mass_csv[common_col]], ignore_index=True,sort='False')\n",
    "# train['image file path'] = 'CuratedDDSM/Train/'+train['image file path'] \n"
   ]
  },
  {
   "cell_type": "code",
   "execution_count": null,
   "metadata": {},
   "outputs": [],
   "source": [
    "labels = set(train_df['pathology'])\n",
    "labels"
   ]
  },
  {
   "cell_type": "code",
   "execution_count": null,
   "metadata": {},
   "outputs": [],
   "source": [
    "\n"
   ]
  },
  {
   "cell_type": "code",
   "execution_count": null,
   "metadata": {},
   "outputs": [],
   "source": [
    "# a =  DCM.read_file('../CuratedDDSM/Train/Calc/CBIS-DDSM/Calc-Training_P_00005_RIGHT_CC/08-07-2016-DDSM-23157/1-full mammogram images-38548/000000.dcm')"
   ]
  },
  {
   "cell_type": "code",
   "execution_count": null,
   "metadata": {},
   "outputs": [],
   "source": [
    "# index=0\n",
    "# image = DCM.read_file('../CuratedDDSM/Train/'+train_mass_csv['image file path'][index])\n",
    "# label = train_mass_csv['pathology'][index]\n",
    "# print(image.pixel_array.shape)\n",
    "# image_2d = image.pixel_array.astype(float)\n",
    "# # plt.imshow(image_2d,cmap='gray')\n",
    "# image_2d_scaled = (np.maximum(image_2d,0)/ image_2d.max()) * 255.0\n",
    "# image_2d_scaled = np.uint8(image_2d_scaled)\n",
    "# # plt.imshow(image_2d_scaled,cmap='gray')\n",
    "# transformations = \\\n",
    "#             transforms.Compose([transforms.Grayscale(3),\n",
    "#                                transforms.Resize(512,interpolation=Image.LANCZOS),\n",
    "#                                transforms.CenterCrop(512)])\n",
    "# img = Image.fromarray(image_2d_scaled)\n",
    "# img = transformations(img)\n",
    "# print(img.getpixel)\n",
    "# img_np = np.asarray(img)\n",
    "# plt.imshow(img_np)\n",
    "# img_np.shape"
   ]
  },
  {
   "cell_type": "code",
   "execution_count": null,
   "metadata": {},
   "outputs": [],
   "source": [
    "class MammographyDataset(Dataset):\n",
    "    \"\"\"Creating CBIS-DDSM pytorch dataset.\"\"\"\n",
    "\n",
    "    def __init__(self, csv_file, root_dir):\n",
    "        \"\"\"\n",
    "        Args:\n",
    "            csv_file (string): Path to the csv file containing labels.\n",
    "            root_dir (string): path to CuratedDDSM directory.\n",
    "            transform (callable, optional): Optional transform to be applied\n",
    "                on a sample.\n",
    "        \"\"\"\n",
    "        # Transforms\n",
    "        self.to_tensor = transforms.ToTensor()\n",
    "        # Read the csv file\n",
    "        self.frame = pd.read_csv(csv_file)\n",
    "        # Image Columns\n",
    "        self.image_arr = np.asarray(self.frame['image file path'])\n",
    "        # Labels\n",
    "        self.label_arr = np.asarray(self.frame['pathology'])\n",
    "        # Calculate Len\n",
    "        self.data_len = len(self.frame.index)\n",
    "        # Location of Curated DDSM\n",
    "        self.root_dir = root_dir\n",
    "        # Transformations to convert image into 512*512\n",
    "        self.transformations = \\\n",
    "            transforms.Compose([transforms.Grayscale(1),\n",
    "                               transforms.Resize(512,interpolation=Image.LANCZOS),\n",
    "                               transforms.CenterCrop(512)])\n",
    "\n",
    "    def __len__(self):\n",
    "        return self.data_len\n",
    "\n",
    "    def __getitem__(self, index):\n",
    "        # Open image\n",
    "        #img_as_img = Image.open(single_image_name)\n",
    "        image_path = os.path.join(self.root_dir,self.image_arr[index])\n",
    "        image_dcm= DCM.read_file(image_path)\n",
    "        \n",
    "        image_2d = image_dcm.pixel_array.astype(float)\n",
    "        image_2d_scaled = (np.maximum(image_2d,0)/ image_2d.max()) * 255.0\n",
    "        image_2d_scaled = np.uint8(image_2d_scaled)\n",
    "        #Transform image to 512 * 512 \n",
    "        img = Image.fromarray(image_2d_scaled)\n",
    "        img_as_img = self.transformations(img)\n",
    "        # Transform image to tensor\n",
    "        img_as_tensor = self.to_tensor(img_as_img)\n",
    "\n",
    "        # Get label(class) of the image based on the cropped pandas column\n",
    "        image_label = self.label_arr[index]\n",
    "\n",
    "        return (img_as_tensor, image_label)"
   ]
  },
  {
   "cell_type": "code",
   "execution_count": null,
   "metadata": {},
   "outputs": [],
   "source": []
  },
  {
   "cell_type": "code",
   "execution_count": null,
   "metadata": {},
   "outputs": [],
   "source": []
  },
  {
   "cell_type": "code",
   "execution_count": null,
   "metadata": {},
   "outputs": [],
   "source": [
    "# import numpy as np\n",
    "# import png\n",
    "# import pydicom\n",
    "\n",
    "# ds = pydicom.dcmread(path)\n",
    "\n",
    "# shape = ds.pixel_array.shape\n",
    "\n",
    "# # Convert to float to avoid overflow or underflow losses.\n",
    "# image_2d = ds.pixel_array.astype(float)\n",
    "\n",
    "# # Rescaling grey scale between 0-255\n",
    "# image_2d_scaled = (np.maximum(image_2d,0) / image_2d.max()) * 255.0\n",
    "\n",
    "# # Convert to uint\n",
    "# image_2d_scaled = np.uint8(image_2d_scaled)\n",
    "\n",
    "# # Write the PNG file\n",
    "# with open(destination, 'wb') as png_file:\n",
    "#     w = png.Writer(shape[1], shape[0], greyscale=True)\n",
    "#     w.write(png_file, image_2d_scaled)"
   ]
  },
  {
   "cell_type": "code",
   "execution_count": null,
   "metadata": {},
   "outputs": [],
   "source": []
  },
  {
   "cell_type": "code",
   "execution_count": null,
   "metadata": {},
   "outputs": [],
   "source": []
  }
 ],
 "metadata": {
  "celltoolbar": "Raw Cell Format",
  "kernelspec": {
   "display_name": "Python 3",
   "language": "python",
   "name": "python3"
  },
  "language_info": {
   "codemirror_mode": {
    "name": "ipython",
    "version": 3
   },
   "file_extension": ".py",
   "mimetype": "text/x-python",
   "name": "python",
   "nbconvert_exporter": "python",
   "pygments_lexer": "ipython3",
   "version": "3.5.2"
  }
 },
 "nbformat": 4,
 "nbformat_minor": 2
}
