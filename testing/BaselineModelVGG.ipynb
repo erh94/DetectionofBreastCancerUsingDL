{
 "cells": [
  {
   "cell_type": "code",
   "execution_count": 8,
   "metadata": {},
   "outputs": [],
   "source": [
    "import torch.nn as nn\n",
    "import torch.nn.functional as F\n",
    "\n",
    "\n",
    "\n",
    "class BaselineNet(nn.Module):\n",
    "    \n",
    "    def __init__(self,num_classes):\n",
    "        super(BaselineNet,self).__init__()\n",
    "        #above line is important\n",
    "        self.layer1 = nn.Sequential()\n",
    "        #self.layer1.add_module(\"conv_0_1\",nn.Conv2d(1,64,kernel_size=3,padding=1))\n",
    "        #self.layer1.add_module(\"relu_0\",nn.ReLU())\n",
    "        #self.layer1.add_module(\"maxpool_0\",nn.MaxPool2d(kernel_size=2))\n",
    "        self.layer1.add_module(\"conv_1_1\",nn.Conv2d(1,64,kernel_size=3,padding=1))\n",
    "        self.layer1.add_module(\"relu_1_1\",nn.ReLU())\n",
    "        self.layer1.add_module(\"conv_1_2\",nn.Conv2d(64,64,kernel_size=3,padding=1))\n",
    "        self.layer1.add_module(\"relu_1_1\",nn.ReLU())\n",
    "        self.layer1.add_module(\"maxpool_1\",nn.MaxPool2d(kernel_size=2))\n",
    "        \n",
    "        self.layer2 = nn.Sequential()\n",
    "        self.layer2.add_module(\"conv_2_1\",nn.Conv2d(64,64,kernel_size=3,padding=1))\n",
    "        self.layer2.add_module(\"relu_2_1\",nn.ReLU())\n",
    "        self.layer2.add_module(\"conv_2_2\",nn.Conv2d(64,64,kernel_size=3,padding=1))\n",
    "        self.layer2.add_module(\"relu_2_1\",nn.ReLU())\n",
    "        self.layer2.add_module(\"maxpool_2\",nn.MaxPool2d(kernel_size=2))\n",
    "        \n",
    "        \n",
    "        self.layer3 = nn.Sequential()\n",
    "        self.layer3.add_module(\"conv_3_1\",nn.Conv2d(64,64,kernel_size=3,padding=1))\n",
    "        self.layer3.add_module(\"maxpool_3_1\",nn.MaxPool2d(kernel_size=2))\n",
    "        self.layer3.add_module(\"conv_3_2\",nn.Conv2d(64,64,kernel_size=3,padding=1))\n",
    "        self.layer2.add_module(\"maxpool_3_2\",nn.MaxPool2d(kernel_size=2))\n",
    "        self.layer3.add_module(\"conv_3_3\",nn.Conv2d(64,64,kernel_size=3,padding=1))\n",
    "        self.layer3.add_module(\"maxpool_3_3\",nn.MaxPool2d(kernel_size=2))\n",
    "        self.layer3.add_module(\"conv_3_4\",nn.Conv2d(64,64,kernel_size=3,padding=1))\n",
    "        self.layer3.add_module(\"maxpool_3_4\",nn.MaxPool2d(kernel_size=2))\n",
    "        \n",
    "        self.fc1= nn.Linear(16384,1024)\n",
    "        self.fc2 = nn.Linear(1024,1024)\n",
    "        self.fc3 = nn.Linear(1024,num_classes)\n",
    "        \n",
    "        self.conv_drop = nn.Dropout2d()\n",
    "        self.linear_drop = nn.Dropout()\n",
    "        \n",
    "    def forward(self,x):\n",
    "        x =  self.conv_drop(self.layer1(x))\n",
    "        x =  self.conv_drop(self.layer2(x))\n",
    "        x =  self.conv_drop(self.layer3(x))\n",
    "        \n",
    "        x = x.view(-1,self.num_flat_features(x))\n",
    "        x = self.linear_drop(F.relu(self.fc1(x)))\n",
    "#         x = self.linear_drop(F.relu(self.fc2(x)))\n",
    "        x = self.fc3(x)\n",
    "        return x\n",
    "    \n",
    "    def num_flat_features(self,x):\n",
    "        size =  x.size()[1:]\n",
    "        num_features = 1\n",
    "        for s in size:\n",
    "            num_features *= s\n",
    "        print(\"Flat features : {}\".format(num_features))\n",
    "        return num_features\n",
    "    \n",
    "\n",
    "def getModel(num_classes):\n",
    "    return BaselineNet(num_classes)\n",
    "\n",
    "def TotalParameters(model):\n",
    "    return sum(p.numel() for p in model.parameters())\n",
    "\n",
    "def TrainableTotalParameters(model):\n",
    "    return sum(p.numel() for p in model.parameters() if p.requires_grad)\n"
   ]
  },
  {
   "cell_type": "code",
   "execution_count": 9,
   "metadata": {},
   "outputs": [],
   "source": [
    "import os\n",
    "import sys\n",
    "\n",
    "import math\n",
    "import torch\n",
    "import torchvision\n",
    "import torch.nn as nn\n",
    "import torch.nn.functional as F\n",
    "import torch.utils.model_zoo as model_zoo\n",
    "import torchvision.models as models\n",
    "\n",
    "from torchviz import make_dot\n",
    "import matplotlib.pyplot as plt\n",
    "import graphviz\n",
    "\n",
    "from pathlib import Path"
   ]
  },
  {
   "cell_type": "code",
   "execution_count": 10,
   "metadata": {},
   "outputs": [],
   "source": [
    "num_epochs = 5\n",
    "num_classes = 3\n",
    "batch_size = 1\n",
    "heights_mammo=width_mammo=1024\n",
    "channels_mammo=1\n",
    "x = torch.randn(batch_size, channels_mammo,heights_mammo , width_mammo)"
   ]
  },
  {
   "cell_type": "code",
   "execution_count": 11,
   "metadata": {},
   "outputs": [
    {
     "data": {
      "text/plain": [
       "torch.Size([1, 1, 1024, 1024])"
      ]
     },
     "execution_count": 11,
     "metadata": {},
     "output_type": "execute_result"
    }
   ],
   "source": [
    "x.shape"
   ]
  },
  {
   "cell_type": "code",
   "execution_count": 12,
   "metadata": {},
   "outputs": [],
   "source": [
    "model= BaselineNet(3)"
   ]
  },
  {
   "cell_type": "code",
   "execution_count": 13,
   "metadata": {},
   "outputs": [
    {
     "data": {
      "text/plain": [
       "BaselineNet(\n",
       "  (layer1): Sequential(\n",
       "    (conv_1_1): Conv2d(1, 64, kernel_size=(3, 3), stride=(1, 1), padding=(1, 1))\n",
       "    (relu_1_1): ReLU()\n",
       "    (conv_1_2): Conv2d(64, 64, kernel_size=(3, 3), stride=(1, 1), padding=(1, 1))\n",
       "    (maxpool_1): MaxPool2d(kernel_size=2, stride=2, padding=0, dilation=1, ceil_mode=False)\n",
       "  )\n",
       "  (layer2): Sequential(\n",
       "    (conv_2_1): Conv2d(64, 64, kernel_size=(3, 3), stride=(1, 1), padding=(1, 1))\n",
       "    (relu_2_1): ReLU()\n",
       "    (conv_2_2): Conv2d(64, 64, kernel_size=(3, 3), stride=(1, 1), padding=(1, 1))\n",
       "    (maxpool_2): MaxPool2d(kernel_size=2, stride=2, padding=0, dilation=1, ceil_mode=False)\n",
       "    (maxpool_3_2): MaxPool2d(kernel_size=2, stride=2, padding=0, dilation=1, ceil_mode=False)\n",
       "  )\n",
       "  (layer3): Sequential(\n",
       "    (conv_3_1): Conv2d(64, 64, kernel_size=(3, 3), stride=(1, 1), padding=(1, 1))\n",
       "    (maxpool_3_1): MaxPool2d(kernel_size=2, stride=2, padding=0, dilation=1, ceil_mode=False)\n",
       "    (conv_3_2): Conv2d(64, 64, kernel_size=(3, 3), stride=(1, 1), padding=(1, 1))\n",
       "    (conv_3_3): Conv2d(64, 64, kernel_size=(3, 3), stride=(1, 1), padding=(1, 1))\n",
       "    (maxpool_3_3): MaxPool2d(kernel_size=2, stride=2, padding=0, dilation=1, ceil_mode=False)\n",
       "    (conv_3_4): Conv2d(64, 64, kernel_size=(3, 3), stride=(1, 1), padding=(1, 1))\n",
       "    (maxpool_3_4): MaxPool2d(kernel_size=2, stride=2, padding=0, dilation=1, ceil_mode=False)\n",
       "  )\n",
       "  (fc1): Linear(in_features=16384, out_features=1024, bias=True)\n",
       "  (fc2): Linear(in_features=1024, out_features=1024, bias=True)\n",
       "  (fc3): Linear(in_features=1024, out_features=3, bias=True)\n",
       "  (conv_drop): Dropout2d(p=0.5)\n",
       "  (linear_drop): Dropout(p=0.5)\n",
       ")"
      ]
     },
     "execution_count": 13,
     "metadata": {},
     "output_type": "execute_result"
    }
   ],
   "source": [
    "model"
   ]
  },
  {
   "cell_type": "code",
   "execution_count": 14,
   "metadata": {},
   "outputs": [
    {
     "name": "stdout",
     "output_type": "stream",
     "text": [
      "Flat features : 16384\n"
     ]
    },
    {
     "data": {
      "text/plain": [
       "torch.Size([1, 3])"
      ]
     },
     "execution_count": 14,
     "metadata": {},
     "output_type": "execute_result"
    }
   ],
   "source": [
    "y =  model(x)\n",
    "y.shape"
   ]
  },
  {
   "cell_type": "code",
   "execution_count": 15,
   "metadata": {},
   "outputs": [],
   "source": [
    "model.eval?"
   ]
  },
  {
   "cell_type": "code",
   "execution_count": null,
   "metadata": {},
   "outputs": [],
   "source": []
  }
 ],
 "metadata": {
  "kernelspec": {
   "display_name": "Python 3",
   "language": "python",
   "name": "python3"
  },
  "language_info": {
   "codemirror_mode": {
    "name": "ipython",
    "version": 3
   },
   "file_extension": ".py",
   "mimetype": "text/x-python",
   "name": "python",
   "nbconvert_exporter": "python",
   "pygments_lexer": "ipython3",
   "version": "3.5.2"
  }
 },
 "nbformat": 4,
 "nbformat_minor": 2
}
